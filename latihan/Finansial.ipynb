{
 "cells": [
  {
   "cell_type": "markdown",
   "metadata": {
    "id": "KA-b85eRAUY-"
   },
   "source": [
    "Data Finansial Perbankan digunakan sebagai acuan latihan Data Engineer dan Data Science."
   ]
  },
  {
   "cell_type": "markdown",
   "metadata": {
    "id": "AGRGW5tFBAlR"
   },
   "source": [
    "# **DISCLAIMER**\n",
    "\n",
    "Sumber data yang diambil berasal dari [mockaroo.com](https://mockaroo.com/), sehingga tidak ada sangkut pautnya dan keabsahan data dari Bank tertentu.\n",
    "\n",
    "Sehingga notebook ini asli dan terhindar dari penyalahgunaan data."
   ]
  },
  {
   "cell_type": "code",
   "execution_count": null,
   "metadata": {
    "vscode": {
     "languageId": "plaintext"
    }
   },
   "outputs": [],
   "source": [
    "# Load dan import library terlebih dahulu\n",
    "import pandas as pd\n",
    "import numpy as np"
   ]
  },
  {
   "cell_type": "code",
   "execution_count": null,
   "metadata": {
    "vscode": {
     "languageId": "plaintext"
    }
   },
   "outputs": [],
   "source": [
    "# Set datasets\n",
    "\n",
    "df_tabeldebet_hal1 = pd.read_csv('../datasets/bukukas_debet_hal1.csv')\n",
    "df_tabeldebet_hal2 = pd.read_csv('../datasets/bukukas_debet_hal2.csv')\n",
    "df_tabeldebet_hal3 = pd.read_csv('../datasets/bukukas_debet_hal3.csv')\n",
    "df_tabeldebet_hal4 = pd.read_csv('../datasets/bukukas_debet_hal4.csv')\n",
    "df_tabeldebet_hal5 = pd.read_csv('../datasets/bukukas_debet_hal5.csv')\n",
    "\n",
    "df_tabelkredit_hal1 = pd.read_csv('../datasets/bukukas_kredit_hal1.csv')\n",
    "df_tabelkredit_hal2 = pd.read_csv('../datasets/bukukas_kredit_hal2.csv')\n",
    "df_tabelkredit_hal3 = pd.read_csv('../datasets/bukukas_kredit_hal3.csv')\n",
    "df_tabelkredit_hal4 = pd.read_csv('../datasets/bukukas_kredit_hal4.csv')\n",
    "df_tabelkredit_hal5 = pd.read_csv('../datasets/bukukas_kredit_hal5.csv')\n",
    "\n"
   ]
  }
 ],
 "metadata": {
  "colab": {
   "authorship_tag": "ABX9TyMgI9T5tvxtZn973NrqQ72D",
   "provenance": []
  },
  "kernelspec": {
   "display_name": "Python 3",
   "name": "python3"
  },
  "language_info": {
   "name": "python"
  }
 },
 "nbformat": 4,
 "nbformat_minor": 0
}
