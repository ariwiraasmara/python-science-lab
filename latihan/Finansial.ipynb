{
 "cells": [
  {
   "cell_type": "markdown",
   "metadata": {
    "id": "KA-b85eRAUY-"
   },
   "source": [
    "Data Finansial Perbankan digunakan sebagai acuan latihan Data Engineer dan Data Science."
   ]
  },
  {
   "cell_type": "markdown",
   "metadata": {
    "id": "AGRGW5tFBAlR"
   },
   "source": [
    "# **DISCLAIMER**"
   ]
  },
  {
   "cell_type": "markdown",
   "metadata": {},
   "source": [
    "Sumber data yang diambil berasal dari [mockaroo.com](https://mockaroo.com/), sehingga tidak ada sangkut pautnya dan keabsahan data dari Bank tertentu.\n",
    "\n",
    "Sehingga notebook ini asli dan terhindar dari penyalahgunaan data."
   ]
  },
  {
   "cell_type": "markdown",
   "metadata": {},
   "source": [
    "Anda dapat menjalankan notebook ini di local maupun menggunakan Google Colab. Untuk dirunning pada Google Colab, install dan gunakanlah extensi [Google Colab](https://chromewebstore.google.com/detail/open-in-colab/iogfkhleblhcpcekbiedikdehleodpjo?hl=en-US&utm_source=ext_sidebar/) pada perangkat Anda."
   ]
  },
  {
   "cell_type": "markdown",
   "metadata": {},
   "source": [
    "# **Tahap 1: Setup**"
   ]
  },
  {
   "cell_type": "code",
   "execution_count": 2,
   "metadata": {},
   "outputs": [],
   "source": [
    "# Load dan import library terlebih dahulu\n",
    "import pandas as pd\n",
    "import matplotlib.pyplot as plt"
   ]
  },
  {
   "cell_type": "code",
   "execution_count": null,
   "metadata": {},
   "outputs": [],
   "source": [
    "# jika menjalankan notebook dengan Google Colab maka 'execute cell' ini.\n",
    "from google.colab import drive\n",
    "drive.mount('/content/drive')\n",
    "# Membuat variabel path folder\n",
    "path = '/content/drive/My Drive/Colab Notebooks/datasets/'"
   ]
  },
  {
   "cell_type": "code",
   "execution_count": 3,
   "metadata": {},
   "outputs": [],
   "source": [
    "# jika menjalankan notebook dengan local device\n",
    "path = '../datasets/'"
   ]
  },
  {
   "cell_type": "code",
   "execution_count": 4,
   "metadata": {},
   "outputs": [],
   "source": [
    "# Set datasets\n",
    "df_finance = pd.read_csv(path + 'mock_data_finansial.csv')"
   ]
  },
  {
   "cell_type": "code",
   "execution_count": 5,
   "metadata": {},
   "outputs": [
    {
     "data": {
      "text/html": [
       "<div>\n",
       "<style scoped>\n",
       "    .dataframe tbody tr th:only-of-type {\n",
       "        vertical-align: middle;\n",
       "    }\n",
       "\n",
       "    .dataframe tbody tr th {\n",
       "        vertical-align: top;\n",
       "    }\n",
       "\n",
       "    .dataframe thead th {\n",
       "        text-align: right;\n",
       "    }\n",
       "</style>\n",
       "<table border=\"1\" class=\"dataframe\">\n",
       "  <thead>\n",
       "    <tr style=\"text-align: right;\">\n",
       "      <th></th>\n",
       "      <th>id</th>\n",
       "      <th>nomor_rekening</th>\n",
       "      <th>nama_lengkap</th>\n",
       "      <th>tanggal_transaksi</th>\n",
       "      <th>jumlah_debit</th>\n",
       "      <th>jumlah_kredit</th>\n",
       "      <th>keterangan</th>\n",
       "    </tr>\n",
       "  </thead>\n",
       "  <tbody>\n",
       "    <tr>\n",
       "      <th>0</th>\n",
       "      <td>1</td>\n",
       "      <td>3586494220604830</td>\n",
       "      <td>Janina Braim</td>\n",
       "      <td>10/8/2024</td>\n",
       "      <td>483909.94</td>\n",
       "      <td>807289.24</td>\n",
       "      <td>In quis justo. Maecenas rhoncus aliquam lacus....</td>\n",
       "    </tr>\n",
       "    <tr>\n",
       "      <th>1</th>\n",
       "      <td>2</td>\n",
       "      <td>3552081402084905</td>\n",
       "      <td>Lorens Bootland</td>\n",
       "      <td>4/22/2024</td>\n",
       "      <td>877634.99</td>\n",
       "      <td>456497.81</td>\n",
       "      <td>Maecenas tristique, est et tempus semper, est ...</td>\n",
       "    </tr>\n",
       "    <tr>\n",
       "      <th>2</th>\n",
       "      <td>3</td>\n",
       "      <td>5602219009751139</td>\n",
       "      <td>Lanny Poschel</td>\n",
       "      <td>9/28/2022</td>\n",
       "      <td>828170.95</td>\n",
       "      <td>905812.81</td>\n",
       "      <td>Mauris enim leo, rhoncus sed, vestibulum sit a...</td>\n",
       "    </tr>\n",
       "    <tr>\n",
       "      <th>3</th>\n",
       "      <td>4</td>\n",
       "      <td>6761178192492842432</td>\n",
       "      <td>Aland Venturoli</td>\n",
       "      <td>2/19/2024</td>\n",
       "      <td>349604.73</td>\n",
       "      <td>308447.20</td>\n",
       "      <td>Praesent id massa id nisl venenatis lacinia. A...</td>\n",
       "    </tr>\n",
       "    <tr>\n",
       "      <th>4</th>\n",
       "      <td>5</td>\n",
       "      <td>3588332712127985</td>\n",
       "      <td>Linc Melbourn</td>\n",
       "      <td>3/18/2024</td>\n",
       "      <td>484681.03</td>\n",
       "      <td>210706.49</td>\n",
       "      <td>Curabitur gravida nisi at nibh. In hac habitas...</td>\n",
       "    </tr>\n",
       "  </tbody>\n",
       "</table>\n",
       "</div>"
      ],
      "text/plain": [
       "   id       nomor_rekening     nama_lengkap tanggal_transaksi  jumlah_debit  \\\n",
       "0   1     3586494220604830     Janina Braim         10/8/2024     483909.94   \n",
       "1   2     3552081402084905  Lorens Bootland         4/22/2024     877634.99   \n",
       "2   3     5602219009751139    Lanny Poschel         9/28/2022     828170.95   \n",
       "3   4  6761178192492842432  Aland Venturoli         2/19/2024     349604.73   \n",
       "4   5     3588332712127985    Linc Melbourn         3/18/2024     484681.03   \n",
       "\n",
       "   jumlah_kredit                                         keterangan  \n",
       "0      807289.24  In quis justo. Maecenas rhoncus aliquam lacus....  \n",
       "1      456497.81  Maecenas tristique, est et tempus semper, est ...  \n",
       "2      905812.81  Mauris enim leo, rhoncus sed, vestibulum sit a...  \n",
       "3      308447.20  Praesent id massa id nisl venenatis lacinia. A...  \n",
       "4      210706.49  Curabitur gravida nisi at nibh. In hac habitas...  "
      ]
     },
     "execution_count": 5,
     "metadata": {},
     "output_type": "execute_result"
    }
   ],
   "source": [
    "df_finance.head()"
   ]
  },
  {
   "cell_type": "code",
   "execution_count": 6,
   "metadata": {},
   "outputs": [
    {
     "data": {
      "text/plain": [
       "Index(['id', 'nomor_rekening', 'nama_lengkap', 'tanggal_transaksi',\n",
       "       'jumlah_debit', 'jumlah_kredit', 'keterangan'],\n",
       "      dtype='object')"
      ]
     },
     "execution_count": 6,
     "metadata": {},
     "output_type": "execute_result"
    }
   ],
   "source": [
    "# Melihat keseluruhan data daftar kolom\n",
    "df_finance.columns"
   ]
  },
  {
   "cell_type": "code",
   "execution_count": 7,
   "metadata": {},
   "outputs": [
    {
     "data": {
      "text/html": [
       "<div>\n",
       "<style scoped>\n",
       "    .dataframe tbody tr th:only-of-type {\n",
       "        vertical-align: middle;\n",
       "    }\n",
       "\n",
       "    .dataframe tbody tr th {\n",
       "        vertical-align: top;\n",
       "    }\n",
       "\n",
       "    .dataframe thead th {\n",
       "        text-align: right;\n",
       "    }\n",
       "</style>\n",
       "<table border=\"1\" class=\"dataframe\">\n",
       "  <thead>\n",
       "    <tr style=\"text-align: right;\">\n",
       "      <th></th>\n",
       "      <th>id</th>\n",
       "      <th>nomor_rekening</th>\n",
       "      <th>nama_lengkap</th>\n",
       "    </tr>\n",
       "  </thead>\n",
       "  <tbody>\n",
       "    <tr>\n",
       "      <th>0</th>\n",
       "      <td>1</td>\n",
       "      <td>3586494220604830</td>\n",
       "      <td>Janina Braim</td>\n",
       "    </tr>\n",
       "    <tr>\n",
       "      <th>1</th>\n",
       "      <td>2</td>\n",
       "      <td>3552081402084905</td>\n",
       "      <td>Lorens Bootland</td>\n",
       "    </tr>\n",
       "    <tr>\n",
       "      <th>2</th>\n",
       "      <td>3</td>\n",
       "      <td>5602219009751139</td>\n",
       "      <td>Lanny Poschel</td>\n",
       "    </tr>\n",
       "    <tr>\n",
       "      <th>3</th>\n",
       "      <td>4</td>\n",
       "      <td>6761178192492842432</td>\n",
       "      <td>Aland Venturoli</td>\n",
       "    </tr>\n",
       "    <tr>\n",
       "      <th>4</th>\n",
       "      <td>5</td>\n",
       "      <td>3588332712127985</td>\n",
       "      <td>Linc Melbourn</td>\n",
       "    </tr>\n",
       "  </tbody>\n",
       "</table>\n",
       "</div>"
      ],
      "text/plain": [
       "   id       nomor_rekening     nama_lengkap\n",
       "0   1     3586494220604830     Janina Braim\n",
       "1   2     3552081402084905  Lorens Bootland\n",
       "2   3     5602219009751139    Lanny Poschel\n",
       "3   4  6761178192492842432  Aland Venturoli\n",
       "4   5     3588332712127985    Linc Melbourn"
      ]
     },
     "execution_count": 7,
     "metadata": {},
     "output_type": "execute_result"
    }
   ],
   "source": [
    "# menghapus kolom tanggal_transaksi, jumlah_debit, jumlah_kredit, dan keterangan,\n",
    "# karena saya ada kesalahan membuat data dimana ini ialah daftar nasabah\n",
    "df_finance.drop(columns=['tanggal_transaksi','jumlah_debit','jumlah_kredit','keterangan'], inplace=True)\n",
    "df_finance.head()"
   ]
  },
  {
   "cell_type": "code",
   "execution_count": 8,
   "metadata": {},
   "outputs": [
    {
     "data": {
      "text/html": [
       "<div>\n",
       "<style scoped>\n",
       "    .dataframe tbody tr th:only-of-type {\n",
       "        vertical-align: middle;\n",
       "    }\n",
       "\n",
       "    .dataframe tbody tr th {\n",
       "        vertical-align: top;\n",
       "    }\n",
       "\n",
       "    .dataframe thead th {\n",
       "        text-align: right;\n",
       "    }\n",
       "</style>\n",
       "<table border=\"1\" class=\"dataframe\">\n",
       "  <thead>\n",
       "    <tr style=\"text-align: right;\">\n",
       "      <th></th>\n",
       "      <th>id</th>\n",
       "      <th>nomor_rekening</th>\n",
       "      <th>nama_lengkap</th>\n",
       "    </tr>\n",
       "  </thead>\n",
       "  <tbody>\n",
       "    <tr>\n",
       "      <th>0</th>\n",
       "      <td>1</td>\n",
       "      <td>3586494220604830</td>\n",
       "      <td>Janina Braim</td>\n",
       "    </tr>\n",
       "  </tbody>\n",
       "</table>\n",
       "</div>"
      ],
      "text/plain": [
       "   id    nomor_rekening  nama_lengkap\n",
       "0   1  3586494220604830  Janina Braim"
      ]
     },
     "execution_count": 8,
     "metadata": {},
     "output_type": "execute_result"
    }
   ],
   "source": [
    "# cari data nomor_rekening sampel = 3586494220604830, 3552081402084905, 5602219009751139\n",
    "# karena cuma diberika data tiga sampel teratas\n",
    "result = df_finance[df_finance['nomor_rekening'] == 3586494220604830]\n",
    "result.head()"
   ]
  },
  {
   "cell_type": "code",
   "execution_count": 9,
   "metadata": {},
   "outputs": [],
   "source": [
    "df_finance_detil_3586494220604830 = pd.read_csv(path + 'mock_data_finansial_detil_3586494220604830.csv')\n",
    "df_finance_detil_3552081402084905 = pd.read_csv(path + 'mock_data_finansial_detil_3552081402084905.csv')\n",
    "df_finance_detil_5602219009751139 = pd.read_csv(path + 'mock_data_finansial_detil_5602219009751139.csv')"
   ]
  },
  {
   "cell_type": "code",
   "execution_count": 10,
   "metadata": {},
   "outputs": [
    {
     "data": {
      "text/html": [
       "<div>\n",
       "<style scoped>\n",
       "    .dataframe tbody tr th:only-of-type {\n",
       "        vertical-align: middle;\n",
       "    }\n",
       "\n",
       "    .dataframe tbody tr th {\n",
       "        vertical-align: top;\n",
       "    }\n",
       "\n",
       "    .dataframe thead th {\n",
       "        text-align: right;\n",
       "    }\n",
       "</style>\n",
       "<table border=\"1\" class=\"dataframe\">\n",
       "  <thead>\n",
       "    <tr style=\"text-align: right;\">\n",
       "      <th></th>\n",
       "      <th>id1</th>\n",
       "      <th>id2</th>\n",
       "      <th>tgl_transaksi</th>\n",
       "      <th>jumlah_debit</th>\n",
       "      <th>jumlah_kredit</th>\n",
       "    </tr>\n",
       "  </thead>\n",
       "  <tbody>\n",
       "    <tr>\n",
       "      <th>0</th>\n",
       "      <td>1</td>\n",
       "      <td>3586494220604830</td>\n",
       "      <td>5/26/2004</td>\n",
       "      <td>156717.36</td>\n",
       "      <td>998505.15</td>\n",
       "    </tr>\n",
       "    <tr>\n",
       "      <th>1</th>\n",
       "      <td>2</td>\n",
       "      <td>3586494220604830</td>\n",
       "      <td>3/1/2012</td>\n",
       "      <td>831957.30</td>\n",
       "      <td>451042.92</td>\n",
       "    </tr>\n",
       "    <tr>\n",
       "      <th>2</th>\n",
       "      <td>3</td>\n",
       "      <td>3586494220604830</td>\n",
       "      <td>9/16/2015</td>\n",
       "      <td>600921.55</td>\n",
       "      <td>42713.03</td>\n",
       "    </tr>\n",
       "    <tr>\n",
       "      <th>3</th>\n",
       "      <td>4</td>\n",
       "      <td>3586494220604830</td>\n",
       "      <td>11/27/2001</td>\n",
       "      <td>515920.48</td>\n",
       "      <td>354274.19</td>\n",
       "    </tr>\n",
       "    <tr>\n",
       "      <th>4</th>\n",
       "      <td>5</td>\n",
       "      <td>3586494220604830</td>\n",
       "      <td>10/15/2002</td>\n",
       "      <td>151230.06</td>\n",
       "      <td>262405.69</td>\n",
       "    </tr>\n",
       "  </tbody>\n",
       "</table>\n",
       "</div>"
      ],
      "text/plain": [
       "   id1               id2 tgl_transaksi  jumlah_debit  jumlah_kredit\n",
       "0    1  3586494220604830     5/26/2004     156717.36      998505.15\n",
       "1    2  3586494220604830      3/1/2012     831957.30      451042.92\n",
       "2    3  3586494220604830     9/16/2015     600921.55       42713.03\n",
       "3    4  3586494220604830    11/27/2001     515920.48      354274.19\n",
       "4    5  3586494220604830    10/15/2002     151230.06      262405.69"
      ]
     },
     "execution_count": 10,
     "metadata": {},
     "output_type": "execute_result"
    }
   ],
   "source": [
    "df_finance_detil_3586494220604830.head()"
   ]
  },
  {
   "cell_type": "code",
   "execution_count": 11,
   "metadata": {},
   "outputs": [
    {
     "data": {
      "text/plain": [
       "id1                int64\n",
       "id2                int64\n",
       "tgl_transaksi     object\n",
       "jumlah_debit     float64\n",
       "jumlah_kredit    float64\n",
       "dtype: object"
      ]
     },
     "execution_count": 11,
     "metadata": {},
     "output_type": "execute_result"
    }
   ],
   "source": [
    "df_finance_detil_3586494220604830.dtypes"
   ]
  },
  {
   "cell_type": "code",
   "execution_count": 12,
   "metadata": {},
   "outputs": [],
   "source": [
    "# mengubah tipe data tgl_transaksi 'object' menjadi 'datetime'\n",
    "df_finance_detil_3586494220604830['tgl_transaksi'] = pd.to_datetime(df_finance_detil_3586494220604830['tgl_transaksi'])"
   ]
  },
  {
   "cell_type": "code",
   "execution_count": 13,
   "metadata": {},
   "outputs": [
    {
     "data": {
      "text/plain": [
       "id1                       int64\n",
       "id2                       int64\n",
       "tgl_transaksi    datetime64[ns]\n",
       "jumlah_debit            float64\n",
       "jumlah_kredit           float64\n",
       "dtype: object"
      ]
     },
     "execution_count": 13,
     "metadata": {},
     "output_type": "execute_result"
    }
   ],
   "source": [
    "df_finance_detil_3586494220604830.dtypes"
   ]
  },
  {
   "cell_type": "code",
   "execution_count": 14,
   "metadata": {},
   "outputs": [
    {
     "data": {
      "text/html": [
       "<div>\n",
       "<style scoped>\n",
       "    .dataframe tbody tr th:only-of-type {\n",
       "        vertical-align: middle;\n",
       "    }\n",
       "\n",
       "    .dataframe tbody tr th {\n",
       "        vertical-align: top;\n",
       "    }\n",
       "\n",
       "    .dataframe thead th {\n",
       "        text-align: right;\n",
       "    }\n",
       "</style>\n",
       "<table border=\"1\" class=\"dataframe\">\n",
       "  <thead>\n",
       "    <tr style=\"text-align: right;\">\n",
       "      <th></th>\n",
       "      <th>id1</th>\n",
       "      <th>id2</th>\n",
       "      <th>tgl_transaksi</th>\n",
       "      <th>jumlah_debit</th>\n",
       "      <th>jumlah_kredit</th>\n",
       "    </tr>\n",
       "  </thead>\n",
       "  <tbody>\n",
       "    <tr>\n",
       "      <th>0</th>\n",
       "      <td>1</td>\n",
       "      <td>3552081402084905</td>\n",
       "      <td>9/16/2019</td>\n",
       "      <td>757459.28</td>\n",
       "      <td>838468.74</td>\n",
       "    </tr>\n",
       "    <tr>\n",
       "      <th>1</th>\n",
       "      <td>2</td>\n",
       "      <td>3552081402084905</td>\n",
       "      <td>4/25/2019</td>\n",
       "      <td>392011.59</td>\n",
       "      <td>151344.70</td>\n",
       "    </tr>\n",
       "    <tr>\n",
       "      <th>2</th>\n",
       "      <td>3</td>\n",
       "      <td>3552081402084905</td>\n",
       "      <td>1/2/2005</td>\n",
       "      <td>450904.68</td>\n",
       "      <td>526232.33</td>\n",
       "    </tr>\n",
       "    <tr>\n",
       "      <th>3</th>\n",
       "      <td>4</td>\n",
       "      <td>3552081402084905</td>\n",
       "      <td>10/1/2006</td>\n",
       "      <td>302103.20</td>\n",
       "      <td>417562.83</td>\n",
       "    </tr>\n",
       "    <tr>\n",
       "      <th>4</th>\n",
       "      <td>5</td>\n",
       "      <td>3552081402084905</td>\n",
       "      <td>1/24/2003</td>\n",
       "      <td>548022.68</td>\n",
       "      <td>93995.60</td>\n",
       "    </tr>\n",
       "  </tbody>\n",
       "</table>\n",
       "</div>"
      ],
      "text/plain": [
       "   id1               id2 tgl_transaksi  jumlah_debit  jumlah_kredit\n",
       "0    1  3552081402084905     9/16/2019     757459.28      838468.74\n",
       "1    2  3552081402084905     4/25/2019     392011.59      151344.70\n",
       "2    3  3552081402084905      1/2/2005     450904.68      526232.33\n",
       "3    4  3552081402084905     10/1/2006     302103.20      417562.83\n",
       "4    5  3552081402084905     1/24/2003     548022.68       93995.60"
      ]
     },
     "execution_count": 14,
     "metadata": {},
     "output_type": "execute_result"
    }
   ],
   "source": [
    "df_finance_detil_3552081402084905.head()"
   ]
  },
  {
   "cell_type": "code",
   "execution_count": 15,
   "metadata": {},
   "outputs": [
    {
     "data": {
      "text/plain": [
       "id1                int64\n",
       "id2                int64\n",
       "tgl_transaksi     object\n",
       "jumlah_debit     float64\n",
       "jumlah_kredit    float64\n",
       "dtype: object"
      ]
     },
     "execution_count": 15,
     "metadata": {},
     "output_type": "execute_result"
    }
   ],
   "source": [
    "df_finance_detil_3552081402084905.dtypes"
   ]
  },
  {
   "cell_type": "code",
   "execution_count": 16,
   "metadata": {},
   "outputs": [
    {
     "data": {
      "text/html": [
       "<div>\n",
       "<style scoped>\n",
       "    .dataframe tbody tr th:only-of-type {\n",
       "        vertical-align: middle;\n",
       "    }\n",
       "\n",
       "    .dataframe tbody tr th {\n",
       "        vertical-align: top;\n",
       "    }\n",
       "\n",
       "    .dataframe thead th {\n",
       "        text-align: right;\n",
       "    }\n",
       "</style>\n",
       "<table border=\"1\" class=\"dataframe\">\n",
       "  <thead>\n",
       "    <tr style=\"text-align: right;\">\n",
       "      <th></th>\n",
       "      <th>id1</th>\n",
       "      <th>id2</th>\n",
       "      <th>tgl_transaksi</th>\n",
       "      <th>jumlah_debit</th>\n",
       "      <th>jumlah_kredit</th>\n",
       "    </tr>\n",
       "  </thead>\n",
       "  <tbody>\n",
       "    <tr>\n",
       "      <th>0</th>\n",
       "      <td>1</td>\n",
       "      <td>5602219009751139</td>\n",
       "      <td>8/3/2005</td>\n",
       "      <td>687288.30</td>\n",
       "      <td>861926.28</td>\n",
       "    </tr>\n",
       "    <tr>\n",
       "      <th>1</th>\n",
       "      <td>2</td>\n",
       "      <td>5602219009751139</td>\n",
       "      <td>9/5/2010</td>\n",
       "      <td>679344.59</td>\n",
       "      <td>257723.93</td>\n",
       "    </tr>\n",
       "    <tr>\n",
       "      <th>2</th>\n",
       "      <td>3</td>\n",
       "      <td>5602219009751139</td>\n",
       "      <td>8/9/2021</td>\n",
       "      <td>36080.54</td>\n",
       "      <td>150179.07</td>\n",
       "    </tr>\n",
       "    <tr>\n",
       "      <th>3</th>\n",
       "      <td>4</td>\n",
       "      <td>5602219009751139</td>\n",
       "      <td>3/3/2015</td>\n",
       "      <td>131193.45</td>\n",
       "      <td>16952.94</td>\n",
       "    </tr>\n",
       "    <tr>\n",
       "      <th>4</th>\n",
       "      <td>5</td>\n",
       "      <td>5602219009751139</td>\n",
       "      <td>7/12/2009</td>\n",
       "      <td>793478.31</td>\n",
       "      <td>214289.04</td>\n",
       "    </tr>\n",
       "  </tbody>\n",
       "</table>\n",
       "</div>"
      ],
      "text/plain": [
       "   id1               id2 tgl_transaksi  jumlah_debit  jumlah_kredit\n",
       "0    1  5602219009751139      8/3/2005     687288.30      861926.28\n",
       "1    2  5602219009751139      9/5/2010     679344.59      257723.93\n",
       "2    3  5602219009751139      8/9/2021      36080.54      150179.07\n",
       "3    4  5602219009751139      3/3/2015     131193.45       16952.94\n",
       "4    5  5602219009751139     7/12/2009     793478.31      214289.04"
      ]
     },
     "execution_count": 16,
     "metadata": {},
     "output_type": "execute_result"
    }
   ],
   "source": [
    "df_finance_detil_5602219009751139.head()"
   ]
  },
  {
   "cell_type": "code",
   "execution_count": 17,
   "metadata": {},
   "outputs": [
    {
     "data": {
      "text/plain": [
       "id1                int64\n",
       "id2                int64\n",
       "tgl_transaksi     object\n",
       "jumlah_debit     float64\n",
       "jumlah_kredit    float64\n",
       "dtype: object"
      ]
     },
     "execution_count": 17,
     "metadata": {},
     "output_type": "execute_result"
    }
   ],
   "source": [
    "df_finance_detil_5602219009751139.dtypes"
   ]
  },
  {
   "cell_type": "markdown",
   "metadata": {},
   "source": [
    "# **Tahap 2: Functions**"
   ]
  },
  {
   "cell_type": "code",
   "execution_count": 18,
   "metadata": {},
   "outputs": [],
   "source": [
    "def createColumnTotal(df):\n",
    "    return df['jumlah_kredit'] - df['jumlah_debit']"
   ]
  },
  {
   "cell_type": "code",
   "execution_count": 19,
   "metadata": {},
   "outputs": [],
   "source": [
    "def toSum(df):\n",
    "    return df.sum().round(0)"
   ]
  },
  {
   "cell_type": "code",
   "execution_count": 20,
   "metadata": {},
   "outputs": [],
   "source": [
    "def ifBalance(value1, value2) :\n",
    "    if value1.round(0) == value2.round(0) :\n",
    "        print('total saldo seimbang')\n",
    "    else :\n",
    "        print('total saldo tidak seimbang!')"
   ]
  },
  {
   "cell_type": "markdown",
   "metadata": {},
   "source": [
    "# **Tahap 3: Normalization**"
   ]
  },
  {
   "cell_type": "code",
   "execution_count": 21,
   "metadata": {},
   "outputs": [
    {
     "name": "stdout",
     "output_type": "stream",
     "text": [
      "Jumlah total duplikasi:  0\n"
     ]
    }
   ],
   "source": [
    "duplicate_norek = df_finance.duplicated(subset='nomor_rekening').sum()\n",
    "print('Jumlah total duplikasi: ', duplicate_norek)"
   ]
  },
  {
   "cell_type": "code",
   "execution_count": 24,
   "metadata": {},
   "outputs": [
    {
     "name": "stdout",
     "output_type": "stream",
     "text": [
      "Tidak Ada Duplikasi Data!\n"
     ]
    }
   ],
   "source": [
    "# Menghapus Duplikasi Data\n",
    "if duplicate_norek > 0:\n",
    "    duplicate_norek = duplicate_norek.drop_duplicates(subset='nomor_rekening', keep='first')\n",
    "\n",
    "    norek1 = duplicate_norek[\"nomor_rekening\"]\n",
    "    duplikasi_nik = duplicate_norek[norek1.isin(norek1[norek1.duplicated()])].sort_values(\"nomor_rekening\")\n",
    "else:\n",
    "    print('Tidak Ada Duplikasi Data!')"
   ]
  },
  {
   "cell_type": "code",
   "execution_count": 25,
   "metadata": {},
   "outputs": [
    {
     "data": {
      "text/html": [
       "<div>\n",
       "<style scoped>\n",
       "    .dataframe tbody tr th:only-of-type {\n",
       "        vertical-align: middle;\n",
       "    }\n",
       "\n",
       "    .dataframe tbody tr th {\n",
       "        vertical-align: top;\n",
       "    }\n",
       "\n",
       "    .dataframe thead th {\n",
       "        text-align: right;\n",
       "    }\n",
       "</style>\n",
       "<table border=\"1\" class=\"dataframe\">\n",
       "  <thead>\n",
       "    <tr style=\"text-align: right;\">\n",
       "      <th></th>\n",
       "      <th>id</th>\n",
       "      <th>nomor_rekening</th>\n",
       "      <th>nama_lengkap</th>\n",
       "    </tr>\n",
       "  </thead>\n",
       "  <tbody>\n",
       "    <tr>\n",
       "      <th>0</th>\n",
       "      <td>1</td>\n",
       "      <td>3586494220604830</td>\n",
       "      <td>Janina Braim</td>\n",
       "    </tr>\n",
       "    <tr>\n",
       "      <th>1</th>\n",
       "      <td>2</td>\n",
       "      <td>3552081402084905</td>\n",
       "      <td>Lorens Bootland</td>\n",
       "    </tr>\n",
       "    <tr>\n",
       "      <th>2</th>\n",
       "      <td>3</td>\n",
       "      <td>5602219009751139</td>\n",
       "      <td>Lanny Poschel</td>\n",
       "    </tr>\n",
       "    <tr>\n",
       "      <th>3</th>\n",
       "      <td>4</td>\n",
       "      <td>6761178192492842432</td>\n",
       "      <td>Aland Venturoli</td>\n",
       "    </tr>\n",
       "    <tr>\n",
       "      <th>4</th>\n",
       "      <td>5</td>\n",
       "      <td>3588332712127985</td>\n",
       "      <td>Linc Melbourn</td>\n",
       "    </tr>\n",
       "  </tbody>\n",
       "</table>\n",
       "</div>"
      ],
      "text/plain": [
       "   id       nomor_rekening     nama_lengkap\n",
       "0   1     3586494220604830     Janina Braim\n",
       "1   2     3552081402084905  Lorens Bootland\n",
       "2   3     5602219009751139    Lanny Poschel\n",
       "3   4  6761178192492842432  Aland Venturoli\n",
       "4   5     3588332712127985    Linc Melbourn"
      ]
     },
     "execution_count": 25,
     "metadata": {},
     "output_type": "execute_result"
    }
   ],
   "source": [
    "df_finance.head()"
   ]
  },
  {
   "cell_type": "markdown",
   "metadata": {},
   "source": [
    "# **Tahap 4**"
   ]
  },
  {
   "cell_type": "markdown",
   "metadata": {},
   "source": [
    "## 4.1. Menggabungkan 3 dataframe\n",
    "\n",
    "Ketika 3 dataframe digabungkan menjadi 1 dataframe data_finansial_detil, setara dengan 1 tabel, dimana 3 dataframe tersebut ialah data detil nasabah"
   ]
  },
  {
   "cell_type": "code",
   "execution_count": 26,
   "metadata": {},
   "outputs": [],
   "source": [
    "data_finansial_detil = pd.concat([df_finance_detil_3586494220604830, df_finance_detil_3552081402084905, df_finance_detil_5602219009751139], axis=0, ignore_index=True)\n",
    "\n",
    "# sortir data berdasarkan 'tgl_transaksi' dan ascending\n",
    "df_finance_detil_3586494220604830['tgl_transaksi'] = pd.to_datetime(df_finance_detil_3586494220604830['tgl_transaksi'], format='%Y-%m-%d')\n",
    "df_finance_detil_3586494220604830.sort_values(by='tgl_transaksi', ascending=True, inplace=True)"
   ]
  },
  {
   "cell_type": "code",
   "execution_count": 27,
   "metadata": {},
   "outputs": [
    {
     "data": {
      "text/html": [
       "<div>\n",
       "<style scoped>\n",
       "    .dataframe tbody tr th:only-of-type {\n",
       "        vertical-align: middle;\n",
       "    }\n",
       "\n",
       "    .dataframe tbody tr th {\n",
       "        vertical-align: top;\n",
       "    }\n",
       "\n",
       "    .dataframe thead th {\n",
       "        text-align: right;\n",
       "    }\n",
       "</style>\n",
       "<table border=\"1\" class=\"dataframe\">\n",
       "  <thead>\n",
       "    <tr style=\"text-align: right;\">\n",
       "      <th></th>\n",
       "      <th>id1</th>\n",
       "      <th>id2</th>\n",
       "      <th>tgl_transaksi</th>\n",
       "      <th>jumlah_debit</th>\n",
       "      <th>jumlah_kredit</th>\n",
       "    </tr>\n",
       "  </thead>\n",
       "  <tbody>\n",
       "    <tr>\n",
       "      <th>0</th>\n",
       "      <td>1</td>\n",
       "      <td>3586494220604830</td>\n",
       "      <td>2004-05-26 00:00:00</td>\n",
       "      <td>156717.36</td>\n",
       "      <td>998505.15</td>\n",
       "    </tr>\n",
       "    <tr>\n",
       "      <th>1</th>\n",
       "      <td>2</td>\n",
       "      <td>3586494220604830</td>\n",
       "      <td>2012-03-01 00:00:00</td>\n",
       "      <td>831957.30</td>\n",
       "      <td>451042.92</td>\n",
       "    </tr>\n",
       "    <tr>\n",
       "      <th>2</th>\n",
       "      <td>3</td>\n",
       "      <td>3586494220604830</td>\n",
       "      <td>2015-09-16 00:00:00</td>\n",
       "      <td>600921.55</td>\n",
       "      <td>42713.03</td>\n",
       "    </tr>\n",
       "    <tr>\n",
       "      <th>3</th>\n",
       "      <td>4</td>\n",
       "      <td>3586494220604830</td>\n",
       "      <td>2001-11-27 00:00:00</td>\n",
       "      <td>515920.48</td>\n",
       "      <td>354274.19</td>\n",
       "    </tr>\n",
       "    <tr>\n",
       "      <th>4</th>\n",
       "      <td>5</td>\n",
       "      <td>3586494220604830</td>\n",
       "      <td>2002-10-15 00:00:00</td>\n",
       "      <td>151230.06</td>\n",
       "      <td>262405.69</td>\n",
       "    </tr>\n",
       "    <tr>\n",
       "      <th>5</th>\n",
       "      <td>6</td>\n",
       "      <td>3586494220604830</td>\n",
       "      <td>2010-04-21 00:00:00</td>\n",
       "      <td>929130.81</td>\n",
       "      <td>880354.19</td>\n",
       "    </tr>\n",
       "    <tr>\n",
       "      <th>6</th>\n",
       "      <td>7</td>\n",
       "      <td>3586494220604830</td>\n",
       "      <td>2008-11-16 00:00:00</td>\n",
       "      <td>142286.08</td>\n",
       "      <td>916167.23</td>\n",
       "    </tr>\n",
       "    <tr>\n",
       "      <th>7</th>\n",
       "      <td>8</td>\n",
       "      <td>3586494220604830</td>\n",
       "      <td>2019-10-17 00:00:00</td>\n",
       "      <td>648758.50</td>\n",
       "      <td>724627.16</td>\n",
       "    </tr>\n",
       "    <tr>\n",
       "      <th>8</th>\n",
       "      <td>9</td>\n",
       "      <td>3586494220604830</td>\n",
       "      <td>2015-02-04 00:00:00</td>\n",
       "      <td>525516.02</td>\n",
       "      <td>553068.83</td>\n",
       "    </tr>\n",
       "    <tr>\n",
       "      <th>9</th>\n",
       "      <td>10</td>\n",
       "      <td>3586494220604830</td>\n",
       "      <td>2017-09-20 00:00:00</td>\n",
       "      <td>531324.12</td>\n",
       "      <td>917921.06</td>\n",
       "    </tr>\n",
       "  </tbody>\n",
       "</table>\n",
       "</div>"
      ],
      "text/plain": [
       "   id1               id2        tgl_transaksi  jumlah_debit  jumlah_kredit\n",
       "0    1  3586494220604830  2004-05-26 00:00:00     156717.36      998505.15\n",
       "1    2  3586494220604830  2012-03-01 00:00:00     831957.30      451042.92\n",
       "2    3  3586494220604830  2015-09-16 00:00:00     600921.55       42713.03\n",
       "3    4  3586494220604830  2001-11-27 00:00:00     515920.48      354274.19\n",
       "4    5  3586494220604830  2002-10-15 00:00:00     151230.06      262405.69\n",
       "5    6  3586494220604830  2010-04-21 00:00:00     929130.81      880354.19\n",
       "6    7  3586494220604830  2008-11-16 00:00:00     142286.08      916167.23\n",
       "7    8  3586494220604830  2019-10-17 00:00:00     648758.50      724627.16\n",
       "8    9  3586494220604830  2015-02-04 00:00:00     525516.02      553068.83\n",
       "9   10  3586494220604830  2017-09-20 00:00:00     531324.12      917921.06"
      ]
     },
     "execution_count": 27,
     "metadata": {},
     "output_type": "execute_result"
    }
   ],
   "source": [
    "data_finansial_detil.head(10)"
   ]
  },
  {
   "cell_type": "code",
   "execution_count": 28,
   "metadata": {},
   "outputs": [
    {
     "data": {
      "text/html": [
       "<div>\n",
       "<style scoped>\n",
       "    .dataframe tbody tr th:only-of-type {\n",
       "        vertical-align: middle;\n",
       "    }\n",
       "\n",
       "    .dataframe tbody tr th {\n",
       "        vertical-align: top;\n",
       "    }\n",
       "\n",
       "    .dataframe thead th {\n",
       "        text-align: right;\n",
       "    }\n",
       "</style>\n",
       "<table border=\"1\" class=\"dataframe\">\n",
       "  <thead>\n",
       "    <tr style=\"text-align: right;\">\n",
       "      <th></th>\n",
       "      <th>id1</th>\n",
       "      <th>id2</th>\n",
       "      <th>tgl_transaksi</th>\n",
       "      <th>jumlah_debit</th>\n",
       "      <th>jumlah_kredit</th>\n",
       "    </tr>\n",
       "  </thead>\n",
       "  <tbody>\n",
       "    <tr>\n",
       "      <th>69</th>\n",
       "      <td>70</td>\n",
       "      <td>3586494220604830</td>\n",
       "      <td>2022-09-30</td>\n",
       "      <td>107226.53</td>\n",
       "      <td>255864.04</td>\n",
       "    </tr>\n",
       "    <tr>\n",
       "      <th>941</th>\n",
       "      <td>942</td>\n",
       "      <td>3586494220604830</td>\n",
       "      <td>2022-10-01</td>\n",
       "      <td>900197.60</td>\n",
       "      <td>980005.56</td>\n",
       "    </tr>\n",
       "    <tr>\n",
       "      <th>627</th>\n",
       "      <td>628</td>\n",
       "      <td>3586494220604830</td>\n",
       "      <td>2022-10-08</td>\n",
       "      <td>827396.36</td>\n",
       "      <td>414662.18</td>\n",
       "    </tr>\n",
       "    <tr>\n",
       "      <th>280</th>\n",
       "      <td>281</td>\n",
       "      <td>3586494220604830</td>\n",
       "      <td>2022-10-21</td>\n",
       "      <td>511471.16</td>\n",
       "      <td>770934.57</td>\n",
       "    </tr>\n",
       "    <tr>\n",
       "      <th>369</th>\n",
       "      <td>370</td>\n",
       "      <td>3586494220604830</td>\n",
       "      <td>2022-10-24</td>\n",
       "      <td>7704.02</td>\n",
       "      <td>610208.71</td>\n",
       "    </tr>\n",
       "    <tr>\n",
       "      <th>33</th>\n",
       "      <td>34</td>\n",
       "      <td>3586494220604830</td>\n",
       "      <td>2022-11-18</td>\n",
       "      <td>943640.06</td>\n",
       "      <td>678269.13</td>\n",
       "    </tr>\n",
       "    <tr>\n",
       "      <th>250</th>\n",
       "      <td>251</td>\n",
       "      <td>3586494220604830</td>\n",
       "      <td>2022-11-27</td>\n",
       "      <td>317882.69</td>\n",
       "      <td>888173.94</td>\n",
       "    </tr>\n",
       "    <tr>\n",
       "      <th>620</th>\n",
       "      <td>621</td>\n",
       "      <td>3586494220604830</td>\n",
       "      <td>2022-12-05</td>\n",
       "      <td>400649.28</td>\n",
       "      <td>907921.97</td>\n",
       "    </tr>\n",
       "    <tr>\n",
       "      <th>648</th>\n",
       "      <td>649</td>\n",
       "      <td>3586494220604830</td>\n",
       "      <td>2022-12-13</td>\n",
       "      <td>692204.05</td>\n",
       "      <td>959819.03</td>\n",
       "    </tr>\n",
       "    <tr>\n",
       "      <th>227</th>\n",
       "      <td>228</td>\n",
       "      <td>3586494220604830</td>\n",
       "      <td>2022-12-17</td>\n",
       "      <td>218163.36</td>\n",
       "      <td>591065.06</td>\n",
       "    </tr>\n",
       "  </tbody>\n",
       "</table>\n",
       "</div>"
      ],
      "text/plain": [
       "     id1               id2 tgl_transaksi  jumlah_debit  jumlah_kredit\n",
       "69    70  3586494220604830    2022-09-30     107226.53      255864.04\n",
       "941  942  3586494220604830    2022-10-01     900197.60      980005.56\n",
       "627  628  3586494220604830    2022-10-08     827396.36      414662.18\n",
       "280  281  3586494220604830    2022-10-21     511471.16      770934.57\n",
       "369  370  3586494220604830    2022-10-24       7704.02      610208.71\n",
       "33    34  3586494220604830    2022-11-18     943640.06      678269.13\n",
       "250  251  3586494220604830    2022-11-27     317882.69      888173.94\n",
       "620  621  3586494220604830    2022-12-05     400649.28      907921.97\n",
       "648  649  3586494220604830    2022-12-13     692204.05      959819.03\n",
       "227  228  3586494220604830    2022-12-17     218163.36      591065.06"
      ]
     },
     "execution_count": 28,
     "metadata": {},
     "output_type": "execute_result"
    }
   ],
   "source": [
    "df_finance_detil_3586494220604830.tail(10)"
   ]
  },
  {
   "cell_type": "markdown",
   "metadata": {},
   "source": [
    "## 4.2. Jika tidak menggabungkan 3 sampel dataframe\n",
    "\n",
    "Contoh sampel dataframe yang diberikan:\n",
    "\n",
    "pilih salah satu\n",
    "\n",
    "1. df_finance_detil_3586494220604830\n",
    "2. df_finance_detil_3552081402084905\n",
    "3. df_finance_detil_5602219009751139\n",
    "\n"
   ]
  },
  {
   "cell_type": "code",
   "execution_count": null,
   "metadata": {},
   "outputs": [
    {
     "data": {
      "text/html": [
       "<div>\n",
       "<style scoped>\n",
       "    .dataframe tbody tr th:only-of-type {\n",
       "        vertical-align: middle;\n",
       "    }\n",
       "\n",
       "    .dataframe tbody tr th {\n",
       "        vertical-align: top;\n",
       "    }\n",
       "\n",
       "    .dataframe thead th {\n",
       "        text-align: right;\n",
       "    }\n",
       "</style>\n",
       "<table border=\"1\" class=\"dataframe\">\n",
       "  <thead>\n",
       "    <tr style=\"text-align: right;\">\n",
       "      <th></th>\n",
       "      <th>id1</th>\n",
       "      <th>id2</th>\n",
       "      <th>tgl_transaksi</th>\n",
       "      <th>jumlah_debit</th>\n",
       "      <th>jumlah_kredit</th>\n",
       "      <th>total</th>\n",
       "    </tr>\n",
       "  </thead>\n",
       "  <tbody>\n",
       "    <tr>\n",
       "      <th>898</th>\n",
       "      <td>899</td>\n",
       "      <td>3586494220604830</td>\n",
       "      <td>2000-01-01</td>\n",
       "      <td>740318.51</td>\n",
       "      <td>766724.98</td>\n",
       "      <td>26406.47</td>\n",
       "    </tr>\n",
       "    <tr>\n",
       "      <th>488</th>\n",
       "      <td>489</td>\n",
       "      <td>3586494220604830</td>\n",
       "      <td>2000-01-04</td>\n",
       "      <td>920362.72</td>\n",
       "      <td>344414.06</td>\n",
       "      <td>-575948.66</td>\n",
       "    </tr>\n",
       "    <tr>\n",
       "      <th>650</th>\n",
       "      <td>651</td>\n",
       "      <td>3586494220604830</td>\n",
       "      <td>2000-01-06</td>\n",
       "      <td>366436.32</td>\n",
       "      <td>190759.42</td>\n",
       "      <td>-175676.90</td>\n",
       "    </tr>\n",
       "    <tr>\n",
       "      <th>305</th>\n",
       "      <td>306</td>\n",
       "      <td>3586494220604830</td>\n",
       "      <td>2000-02-01</td>\n",
       "      <td>845533.60</td>\n",
       "      <td>570077.29</td>\n",
       "      <td>-275456.31</td>\n",
       "    </tr>\n",
       "    <tr>\n",
       "      <th>124</th>\n",
       "      <td>125</td>\n",
       "      <td>3586494220604830</td>\n",
       "      <td>2000-02-02</td>\n",
       "      <td>60952.65</td>\n",
       "      <td>533993.88</td>\n",
       "      <td>473041.23</td>\n",
       "    </tr>\n",
       "  </tbody>\n",
       "</table>\n",
       "</div>"
      ],
      "text/plain": [
       "     id1               id2 tgl_transaksi  jumlah_debit  jumlah_kredit  \\\n",
       "898  899  3586494220604830    2000-01-01     740318.51      766724.98   \n",
       "488  489  3586494220604830    2000-01-04     920362.72      344414.06   \n",
       "650  651  3586494220604830    2000-01-06     366436.32      190759.42   \n",
       "305  306  3586494220604830    2000-02-01     845533.60      570077.29   \n",
       "124  125  3586494220604830    2000-02-02      60952.65      533993.88   \n",
       "\n",
       "         total  \n",
       "898   26406.47  \n",
       "488 -575948.66  \n",
       "650 -175676.90  \n",
       "305 -275456.31  \n",
       "124  473041.23  "
      ]
     },
     "execution_count": 29,
     "metadata": {},
     "output_type": "execute_result"
    }
   ],
   "source": [
    "# membuat kolom baru total dimana total = kredit - debit menggunakan fungsi createColumnTotal() yang sudah dibuat diatas\n",
    "df_finance_detil_3586494220604830['total'] = createColumnTotal(df_finance_detil_3586494220604830)\n",
    "\n",
    "# di sortir di bagian ini, sehingga dataframe pada cell selanjutnya akan terus mengikuti data yang sudah difilterisasi ini\n",
    "df_finance_detil_3586494220604830.sort_values(by='tgl_transaksi', ascending=True, inplace=True)\n",
    "\n",
    "df_finance_detil_3586494220604830.head()"
   ]
  },
  {
   "cell_type": "code",
   "execution_count": 30,
   "metadata": {},
   "outputs": [
    {
     "data": {
      "text/html": [
       "<div>\n",
       "<style scoped>\n",
       "    .dataframe tbody tr th:only-of-type {\n",
       "        vertical-align: middle;\n",
       "    }\n",
       "\n",
       "    .dataframe tbody tr th {\n",
       "        vertical-align: top;\n",
       "    }\n",
       "\n",
       "    .dataframe thead th {\n",
       "        text-align: right;\n",
       "    }\n",
       "</style>\n",
       "<table border=\"1\" class=\"dataframe\">\n",
       "  <thead>\n",
       "    <tr style=\"text-align: right;\">\n",
       "      <th></th>\n",
       "      <th>id1</th>\n",
       "      <th>id2</th>\n",
       "      <th>tgl_transaksi</th>\n",
       "      <th>jumlah_debit</th>\n",
       "      <th>jumlah_kredit</th>\n",
       "      <th>total</th>\n",
       "    </tr>\n",
       "  </thead>\n",
       "  <tbody>\n",
       "    <tr>\n",
       "      <th>898</th>\n",
       "      <td>899</td>\n",
       "      <td>3586494220604830</td>\n",
       "      <td>2000-01-01</td>\n",
       "      <td>740318.51</td>\n",
       "      <td>766724.98</td>\n",
       "      <td>26406.47</td>\n",
       "    </tr>\n",
       "    <tr>\n",
       "      <th>488</th>\n",
       "      <td>489</td>\n",
       "      <td>3586494220604830</td>\n",
       "      <td>2000-01-04</td>\n",
       "      <td>920362.72</td>\n",
       "      <td>344414.06</td>\n",
       "      <td>0.00</td>\n",
       "    </tr>\n",
       "    <tr>\n",
       "      <th>650</th>\n",
       "      <td>651</td>\n",
       "      <td>3586494220604830</td>\n",
       "      <td>2000-01-06</td>\n",
       "      <td>366436.32</td>\n",
       "      <td>190759.42</td>\n",
       "      <td>0.00</td>\n",
       "    </tr>\n",
       "    <tr>\n",
       "      <th>305</th>\n",
       "      <td>306</td>\n",
       "      <td>3586494220604830</td>\n",
       "      <td>2000-02-01</td>\n",
       "      <td>845533.60</td>\n",
       "      <td>570077.29</td>\n",
       "      <td>0.00</td>\n",
       "    </tr>\n",
       "    <tr>\n",
       "      <th>124</th>\n",
       "      <td>125</td>\n",
       "      <td>3586494220604830</td>\n",
       "      <td>2000-02-02</td>\n",
       "      <td>60952.65</td>\n",
       "      <td>533993.88</td>\n",
       "      <td>473041.23</td>\n",
       "    </tr>\n",
       "  </tbody>\n",
       "</table>\n",
       "</div>"
      ],
      "text/plain": [
       "     id1               id2 tgl_transaksi  jumlah_debit  jumlah_kredit  \\\n",
       "898  899  3586494220604830    2000-01-01     740318.51      766724.98   \n",
       "488  489  3586494220604830    2000-01-04     920362.72      344414.06   \n",
       "650  651  3586494220604830    2000-01-06     366436.32      190759.42   \n",
       "305  306  3586494220604830    2000-02-01     845533.60      570077.29   \n",
       "124  125  3586494220604830    2000-02-02      60952.65      533993.88   \n",
       "\n",
       "         total  \n",
       "898   26406.47  \n",
       "488       0.00  \n",
       "650       0.00  \n",
       "305       0.00  \n",
       "124  473041.23  "
      ]
     },
     "execution_count": 30,
     "metadata": {},
     "output_type": "execute_result"
    }
   ],
   "source": [
    "# menormalisasi jika ada total yang dibawah 0 maka dibulatkan menjadi 0\n",
    "df_finance_detil_3586494220604830['total'] = df_finance_detil_3586494220604830['total'].clip(lower=0)\n",
    "df_finance_detil_3586494220604830.head()"
   ]
  },
  {
   "cell_type": "code",
   "execution_count": 31,
   "metadata": {},
   "outputs": [
    {
     "name": "stdout",
     "output_type": "stream",
     "text": [
      "id1                       int64\n",
      "id2                       int64\n",
      "tgl_transaksi    datetime64[ns]\n",
      "jumlah_debit            float64\n",
      "jumlah_kredit           float64\n",
      "total                   float64\n",
      "dtype: object\n",
      "\n",
      " id1                       int64\n",
      "id2                       int64\n",
      "tgl_transaksi    datetime64[ns]\n",
      "jumlah_debit            float64\n",
      "jumlah_kredit           float64\n",
      "total                   float64\n",
      "dtype: object\n"
     ]
    }
   ],
   "source": [
    "print(df_finance_detil_3586494220604830.dtypes)\n",
    "df_finance_detil_3586494220604830['tgl_transaksi'] = pd.to_datetime(df_finance_detil_3586494220604830['tgl_transaksi'], format='%d-%m-%Y')\n",
    "print('\\n', df_finance_detil_3586494220604830.dtypes)\n"
   ]
  },
  {
   "cell_type": "markdown",
   "metadata": {},
   "source": [
    "# **Tahap 5**"
   ]
  },
  {
   "cell_type": "markdown",
   "metadata": {},
   "source": [
    "## 5.1. Mencari \"Total\"\n",
    "\n",
    "gunakan salah satunya untuk mencari :\n",
    "1. total_kredit\n",
    "2. total_debit\n",
    "3. total_kolom_saldo\n",
    "4. total_baris_saldo\n",
    "5. apakah 'balance'?"
   ]
  },
  {
   "cell_type": "code",
   "execution_count": 32,
   "metadata": {},
   "outputs": [
    {
     "name": "stdout",
     "output_type": "stream",
     "text": [
      "total_kredit :  504873268.0\n",
      "total_debit :  509934468.0\n",
      "total_kolom_saldo :  158668251.0\n",
      "total_baris_saldo :  -5061200.0\n",
      "total saldo tidak seimbang!\n"
     ]
    }
   ],
   "source": [
    "total_kredit = toSum(df_finance_detil_3586494220604830['jumlah_kredit'])\n",
    "print('total_kredit : ', total_kredit)\n",
    "\n",
    "total_debit = toSum(df_finance_detil_3586494220604830['jumlah_debit'])\n",
    "print('total_debit : ', total_debit)\n",
    "\n",
    "total_kolom_saldo = toSum(df_finance_detil_3586494220604830['total'])\n",
    "print('total_kolom_saldo : ', total_kolom_saldo)\n",
    "\n",
    "total_baris_saldo = total_kredit - total_debit\n",
    "print('total_baris_saldo : ', total_baris_saldo)\n",
    "\n",
    "ifBalance(total_baris_saldo, total_kolom_saldo)\n"
   ]
  },
  {
   "cell_type": "markdown",
   "metadata": {},
   "source": [
    "## 5.2. Mencari data berdasarkan tanggal\n",
    "\n",
    "Gunakan variabel *`'search_date', 'search_month', 'search_year'`* untuk mencari data.\n",
    "\n",
    "Dan pilih salah satu cell pencarian data untuk mendapatkan hasil dan outputnya"
   ]
  },
  {
   "cell_type": "markdown",
   "metadata": {},
   "source": [
    "### 5.2.1. Step 1: Search Data"
   ]
  },
  {
   "cell_type": "code",
   "execution_count": null,
   "metadata": {},
   "outputs": [],
   "source": [
    "# berdasarkan tanggal spesifik\n",
    "search_date = '01-01-2024'\n",
    "df_finance_detil_filtered_search_date = df_finance_detil_3586494220604830[df_finance_detil_3586494220604830['tgl_transaksi'] == search_date]\n",
    "df_finance_detil_filtered_search_date.head(100)"
   ]
  },
  {
   "cell_type": "code",
   "execution_count": null,
   "metadata": {},
   "outputs": [],
   "source": [
    "# berdasarkan antara 2 tanggal spesifik\n",
    "search_date1 = '01-01-2001'\n",
    "search_date2 = '30-06-2001'\n",
    "\n",
    "df_finance_detil_filtered_search_date = df_finance_detil_3586494220604830[(df_finance_detil_3586494220604830['tgl_transaksi'] >= search_date1) & (df_finance_detil_3586494220604830['tgl_transaksi'] <= search_date2)]\n",
    "df_finance_detil_filtered_search_date.head(100)"
   ]
  },
  {
   "cell_type": "code",
   "execution_count": null,
   "metadata": {},
   "outputs": [],
   "source": [
    "# berdasarkan bulan dan tahun\n",
    "search_month = 11\n",
    "search_year = 2001\n",
    "df_finance_detil_filtered_search_date = df_finance_detil_3586494220604830[(df_finance_detil_3586494220604830['tgl_transaksi'].dt.month == search_month) & (df_finance_detil_3586494220604830['tgl_transaksi'].dt.year == search_year)]\n",
    "df_finance_detil_filtered_search_date.head(100)"
   ]
  },
  {
   "cell_type": "code",
   "execution_count": 33,
   "metadata": {},
   "outputs": [
    {
     "data": {
      "text/html": [
       "<div>\n",
       "<style scoped>\n",
       "    .dataframe tbody tr th:only-of-type {\n",
       "        vertical-align: middle;\n",
       "    }\n",
       "\n",
       "    .dataframe tbody tr th {\n",
       "        vertical-align: top;\n",
       "    }\n",
       "\n",
       "    .dataframe thead th {\n",
       "        text-align: right;\n",
       "    }\n",
       "</style>\n",
       "<table border=\"1\" class=\"dataframe\">\n",
       "  <thead>\n",
       "    <tr style=\"text-align: right;\">\n",
       "      <th></th>\n",
       "      <th>id1</th>\n",
       "      <th>id2</th>\n",
       "      <th>tgl_transaksi</th>\n",
       "      <th>jumlah_debit</th>\n",
       "      <th>jumlah_kredit</th>\n",
       "      <th>total</th>\n",
       "    </tr>\n",
       "  </thead>\n",
       "  <tbody>\n",
       "    <tr>\n",
       "      <th>656</th>\n",
       "      <td>657</td>\n",
       "      <td>3586494220604830</td>\n",
       "      <td>2001-01-04</td>\n",
       "      <td>892823.17</td>\n",
       "      <td>127213.97</td>\n",
       "      <td>0.00</td>\n",
       "    </tr>\n",
       "    <tr>\n",
       "      <th>399</th>\n",
       "      <td>400</td>\n",
       "      <td>3586494220604830</td>\n",
       "      <td>2001-02-01</td>\n",
       "      <td>435448.45</td>\n",
       "      <td>351298.57</td>\n",
       "      <td>0.00</td>\n",
       "    </tr>\n",
       "    <tr>\n",
       "      <th>454</th>\n",
       "      <td>455</td>\n",
       "      <td>3586494220604830</td>\n",
       "      <td>2001-02-13</td>\n",
       "      <td>64856.96</td>\n",
       "      <td>740381.68</td>\n",
       "      <td>675524.72</td>\n",
       "    </tr>\n",
       "    <tr>\n",
       "      <th>154</th>\n",
       "      <td>155</td>\n",
       "      <td>3586494220604830</td>\n",
       "      <td>2001-02-16</td>\n",
       "      <td>68098.40</td>\n",
       "      <td>155543.54</td>\n",
       "      <td>87445.14</td>\n",
       "    </tr>\n",
       "    <tr>\n",
       "      <th>583</th>\n",
       "      <td>584</td>\n",
       "      <td>3586494220604830</td>\n",
       "      <td>2001-02-19</td>\n",
       "      <td>807466.18</td>\n",
       "      <td>880167.76</td>\n",
       "      <td>72701.58</td>\n",
       "    </tr>\n",
       "    <tr>\n",
       "      <th>363</th>\n",
       "      <td>364</td>\n",
       "      <td>3586494220604830</td>\n",
       "      <td>2001-03-05</td>\n",
       "      <td>238666.51</td>\n",
       "      <td>452525.64</td>\n",
       "      <td>213859.13</td>\n",
       "    </tr>\n",
       "    <tr>\n",
       "      <th>247</th>\n",
       "      <td>248</td>\n",
       "      <td>3586494220604830</td>\n",
       "      <td>2001-03-17</td>\n",
       "      <td>196690.45</td>\n",
       "      <td>485058.83</td>\n",
       "      <td>288368.38</td>\n",
       "    </tr>\n",
       "    <tr>\n",
       "      <th>728</th>\n",
       "      <td>729</td>\n",
       "      <td>3586494220604830</td>\n",
       "      <td>2001-03-20</td>\n",
       "      <td>927702.16</td>\n",
       "      <td>303042.52</td>\n",
       "      <td>0.00</td>\n",
       "    </tr>\n",
       "    <tr>\n",
       "      <th>114</th>\n",
       "      <td>115</td>\n",
       "      <td>3586494220604830</td>\n",
       "      <td>2001-04-08</td>\n",
       "      <td>62580.31</td>\n",
       "      <td>935403.60</td>\n",
       "      <td>872823.29</td>\n",
       "    </tr>\n",
       "    <tr>\n",
       "      <th>334</th>\n",
       "      <td>335</td>\n",
       "      <td>3586494220604830</td>\n",
       "      <td>2001-04-11</td>\n",
       "      <td>534789.23</td>\n",
       "      <td>951642.62</td>\n",
       "      <td>416853.39</td>\n",
       "    </tr>\n",
       "    <tr>\n",
       "      <th>360</th>\n",
       "      <td>361</td>\n",
       "      <td>3586494220604830</td>\n",
       "      <td>2001-04-24</td>\n",
       "      <td>213299.13</td>\n",
       "      <td>2743.49</td>\n",
       "      <td>0.00</td>\n",
       "    </tr>\n",
       "    <tr>\n",
       "      <th>905</th>\n",
       "      <td>906</td>\n",
       "      <td>3586494220604830</td>\n",
       "      <td>2001-05-04</td>\n",
       "      <td>561181.38</td>\n",
       "      <td>570698.65</td>\n",
       "      <td>9517.27</td>\n",
       "    </tr>\n",
       "    <tr>\n",
       "      <th>203</th>\n",
       "      <td>204</td>\n",
       "      <td>3586494220604830</td>\n",
       "      <td>2001-05-12</td>\n",
       "      <td>780668.38</td>\n",
       "      <td>27007.15</td>\n",
       "      <td>0.00</td>\n",
       "    </tr>\n",
       "    <tr>\n",
       "      <th>78</th>\n",
       "      <td>79</td>\n",
       "      <td>3586494220604830</td>\n",
       "      <td>2001-05-20</td>\n",
       "      <td>172306.78</td>\n",
       "      <td>820865.29</td>\n",
       "      <td>648558.51</td>\n",
       "    </tr>\n",
       "    <tr>\n",
       "      <th>358</th>\n",
       "      <td>359</td>\n",
       "      <td>3586494220604830</td>\n",
       "      <td>2001-05-27</td>\n",
       "      <td>538551.34</td>\n",
       "      <td>797971.72</td>\n",
       "      <td>259420.38</td>\n",
       "    </tr>\n",
       "    <tr>\n",
       "      <th>240</th>\n",
       "      <td>241</td>\n",
       "      <td>3586494220604830</td>\n",
       "      <td>2001-06-01</td>\n",
       "      <td>262156.80</td>\n",
       "      <td>735721.98</td>\n",
       "      <td>473565.18</td>\n",
       "    </tr>\n",
       "    <tr>\n",
       "      <th>890</th>\n",
       "      <td>891</td>\n",
       "      <td>3586494220604830</td>\n",
       "      <td>2001-06-02</td>\n",
       "      <td>448841.33</td>\n",
       "      <td>519072.30</td>\n",
       "      <td>70230.97</td>\n",
       "    </tr>\n",
       "    <tr>\n",
       "      <th>308</th>\n",
       "      <td>309</td>\n",
       "      <td>3586494220604830</td>\n",
       "      <td>2001-06-08</td>\n",
       "      <td>394903.90</td>\n",
       "      <td>388415.12</td>\n",
       "      <td>0.00</td>\n",
       "    </tr>\n",
       "    <tr>\n",
       "      <th>527</th>\n",
       "      <td>528</td>\n",
       "      <td>3586494220604830</td>\n",
       "      <td>2001-06-12</td>\n",
       "      <td>935254.99</td>\n",
       "      <td>976705.22</td>\n",
       "      <td>41450.23</td>\n",
       "    </tr>\n",
       "    <tr>\n",
       "      <th>769</th>\n",
       "      <td>770</td>\n",
       "      <td>3586494220604830</td>\n",
       "      <td>2001-06-14</td>\n",
       "      <td>84724.21</td>\n",
       "      <td>642121.22</td>\n",
       "      <td>557397.01</td>\n",
       "    </tr>\n",
       "  </tbody>\n",
       "</table>\n",
       "</div>"
      ],
      "text/plain": [
       "     id1               id2 tgl_transaksi  jumlah_debit  jumlah_kredit  \\\n",
       "656  657  3586494220604830    2001-01-04     892823.17      127213.97   \n",
       "399  400  3586494220604830    2001-02-01     435448.45      351298.57   \n",
       "454  455  3586494220604830    2001-02-13      64856.96      740381.68   \n",
       "154  155  3586494220604830    2001-02-16      68098.40      155543.54   \n",
       "583  584  3586494220604830    2001-02-19     807466.18      880167.76   \n",
       "363  364  3586494220604830    2001-03-05     238666.51      452525.64   \n",
       "247  248  3586494220604830    2001-03-17     196690.45      485058.83   \n",
       "728  729  3586494220604830    2001-03-20     927702.16      303042.52   \n",
       "114  115  3586494220604830    2001-04-08      62580.31      935403.60   \n",
       "334  335  3586494220604830    2001-04-11     534789.23      951642.62   \n",
       "360  361  3586494220604830    2001-04-24     213299.13        2743.49   \n",
       "905  906  3586494220604830    2001-05-04     561181.38      570698.65   \n",
       "203  204  3586494220604830    2001-05-12     780668.38       27007.15   \n",
       "78    79  3586494220604830    2001-05-20     172306.78      820865.29   \n",
       "358  359  3586494220604830    2001-05-27     538551.34      797971.72   \n",
       "240  241  3586494220604830    2001-06-01     262156.80      735721.98   \n",
       "890  891  3586494220604830    2001-06-02     448841.33      519072.30   \n",
       "308  309  3586494220604830    2001-06-08     394903.90      388415.12   \n",
       "527  528  3586494220604830    2001-06-12     935254.99      976705.22   \n",
       "769  770  3586494220604830    2001-06-14      84724.21      642121.22   \n",
       "\n",
       "         total  \n",
       "656       0.00  \n",
       "399       0.00  \n",
       "454  675524.72  \n",
       "154   87445.14  \n",
       "583   72701.58  \n",
       "363  213859.13  \n",
       "247  288368.38  \n",
       "728       0.00  \n",
       "114  872823.29  \n",
       "334  416853.39  \n",
       "360       0.00  \n",
       "905    9517.27  \n",
       "203       0.00  \n",
       "78   648558.51  \n",
       "358  259420.38  \n",
       "240  473565.18  \n",
       "890   70230.97  \n",
       "308       0.00  \n",
       "527   41450.23  \n",
       "769  557397.01  "
      ]
     },
     "execution_count": 33,
     "metadata": {},
     "output_type": "execute_result"
    }
   ],
   "source": [
    "# berdasarkan antara 2 bulan dan 2 tahun tertentu secara spesifik\n",
    "search_month1 = 1\n",
    "search_year1 = 2001\n",
    "\n",
    "search_month2 = 6\n",
    "search_year2 = 2001\n",
    "\n",
    "df_finance_detil_filtered_search_date = df_finance_detil_3586494220604830[\n",
    "                                            (\n",
    "                                                (df_finance_detil_3586494220604830['tgl_transaksi'].dt.month >= search_month1)\n",
    "                                                &\n",
    "                                                (df_finance_detil_3586494220604830['tgl_transaksi'].dt.year >= search_year1)\n",
    "                                            )\n",
    "                                            &\n",
    "                                            (\n",
    "                                                (df_finance_detil_3586494220604830['tgl_transaksi'].dt.month <= search_month2)\n",
    "                                                &\n",
    "                                                (df_finance_detil_3586494220604830['tgl_transaksi'].dt.year <= search_year2)\n",
    "                                            )\n",
    "                                        ]\n",
    "df_finance_detil_filtered_search_date.head(100)"
   ]
  },
  {
   "cell_type": "code",
   "execution_count": null,
   "metadata": {},
   "outputs": [],
   "source": [
    "# berdasarkan tahun\n",
    "search_year = 2001\n",
    "df_finance_detil_filtered_search_date = df_finance_detil_3586494220604830[df_finance_detil_3586494220604830['tgl_transaksi'].dt.year == search_year]\n",
    "df_finance_detil_filtered_search_date.head(100)"
   ]
  },
  {
   "cell_type": "code",
   "execution_count": null,
   "metadata": {},
   "outputs": [],
   "source": [
    "# berdasarkan diantara 2 tahun tertentu secara spesifik\n",
    "search_year1 = 2001\n",
    "search_year2 = 2005\n",
    "\n",
    "df_finance_detil_filtered_search_date = df_finance_detil_3586494220604830[\n",
    "                                            (df_finance_detil_3586494220604830['tgl_transaksi'].dt.year >= search_year1)\n",
    "                                            &\n",
    "                                            (df_finance_detil_3586494220604830['tgl_transaksi'].dt.year <= search_year2)\n",
    "                                        ]\n",
    "df_finance_detil_filtered_search_date.head(100)"
   ]
  },
  {
   "cell_type": "markdown",
   "metadata": {},
   "source": [
    "### 5.2.2. Step 2 : Total and ifBalance"
   ]
  },
  {
   "cell_type": "code",
   "execution_count": 35,
   "metadata": {},
   "outputs": [
    {
     "name": "stdout",
     "output_type": "stream",
     "text": [
      "total_kredit_filtered_search_date :  504873268.0\n",
      "total_debit_filtered_search_date :  509934468.0\n",
      "total_baris_saldo_filtered_search_date :  -5061200.0\n",
      "total_kolom_saldo_filtered_search_date :  158668251.0\n",
      "total saldo tidak seimbang!\n"
     ]
    }
   ],
   "source": [
    "total_kredit_filtered_search_date = toSum(df_finance_detil_3586494220604830['jumlah_kredit'])\n",
    "total_debit_filtered_search_date = toSum(df_finance_detil_3586494220604830['jumlah_debit'])\n",
    "total_baris_saldo_filtered_search_date = total_kredit_filtered_search_date - total_debit_filtered_search_date\n",
    "total_kolom_saldo_filtered_search_date = toSum(df_finance_detil_3586494220604830['total'])\n",
    "\n",
    "print('total_kredit_filtered_search_date : ', total_kredit_filtered_search_date)\n",
    "print('total_debit_filtered_search_date : ', total_debit_filtered_search_date)\n",
    "print('total_baris_saldo_filtered_search_date : ', total_baris_saldo_filtered_search_date)\n",
    "print('total_kolom_saldo_filtered_search_date : ', total_kolom_saldo_filtered_search_date)\n",
    "\n",
    "ifBalance(total_baris_saldo, total_kolom_saldo)\n"
   ]
  },
  {
   "cell_type": "markdown",
   "metadata": {},
   "source": [
    "### 5.2.3. Step 3 : Finalization\n",
    "\n",
    "untuk hasil akhir, pada bagian kolom *`jumlah_debit, jumlah_kredit, total`* tipe datanya akan diubat `(numeric to string)` agar format data angka menjadi mudah untuk dibaca"
   ]
  },
  {
   "cell_type": "code",
   "execution_count": 37,
   "metadata": {},
   "outputs": [
    {
     "ename": "ValueError",
     "evalue": "Unknown format code 'f' for object of type 'str'",
     "output_type": "error",
     "traceback": [
      "\u001b[31m---------------------------------------------------------------------------\u001b[39m",
      "\u001b[31mValueError\u001b[39m                                Traceback (most recent call last)",
      "\u001b[36mCell\u001b[39m\u001b[36m \u001b[39m\u001b[32mIn[37]\u001b[39m\u001b[32m, line 1\u001b[39m\n\u001b[32m----> \u001b[39m\u001b[32m1\u001b[39m df_finance_detil_3586494220604830[\u001b[33m'\u001b[39m\u001b[33mjumlah_debit\u001b[39m\u001b[33m'\u001b[39m] = \u001b[43mdf_finance_detil_3586494220604830\u001b[49m\u001b[43m[\u001b[49m\u001b[33;43m'\u001b[39;49m\u001b[33;43mjumlah_debit\u001b[39;49m\u001b[33;43m'\u001b[39;49m\u001b[43m]\u001b[49m\u001b[43m.\u001b[49m\u001b[43mapply\u001b[49m\u001b[43m(\u001b[49m\u001b[38;5;28;43;01mlambda\u001b[39;49;00m\u001b[43m \u001b[49m\u001b[43mx\u001b[49m\u001b[43m:\u001b[49m\u001b[43m \u001b[49m\u001b[33;43m'\u001b[39;49m\u001b[38;5;132;43;01m{:,.2f}\u001b[39;49;00m\u001b[33;43m'\u001b[39;49m\u001b[43m.\u001b[49m\u001b[43mformat\u001b[49m\u001b[43m(\u001b[49m\u001b[43mx\u001b[49m\u001b[43m)\u001b[49m\u001b[43m)\u001b[49m\n\u001b[32m      2\u001b[39m df_finance_detil_3586494220604830[\u001b[33m'\u001b[39m\u001b[33mjumlah_kredit\u001b[39m\u001b[33m'\u001b[39m] = df_finance_detil_3586494220604830[\u001b[33m'\u001b[39m\u001b[33mjumlah_kredit\u001b[39m\u001b[33m'\u001b[39m].apply(\u001b[38;5;28;01mlambda\u001b[39;00m x: \u001b[33m'\u001b[39m\u001b[38;5;132;01m{:,.2f}\u001b[39;00m\u001b[33m'\u001b[39m.format(x))\n\u001b[32m      3\u001b[39m df_finance_detil_3586494220604830[\u001b[33m'\u001b[39m\u001b[33mtotal\u001b[39m\u001b[33m'\u001b[39m] = df_finance_detil_3586494220604830[\u001b[33m'\u001b[39m\u001b[33mtotal\u001b[39m\u001b[33m'\u001b[39m].apply(\u001b[38;5;28;01mlambda\u001b[39;00m x: \u001b[33m'\u001b[39m\u001b[38;5;132;01m{:,.2f}\u001b[39;00m\u001b[33m'\u001b[39m.format(x))\n",
      "\u001b[36mFile \u001b[39m\u001b[32mc:\\laragon\\bin\\python\\Python313\\Lib\\site-packages\\pandas\\core\\series.py:4924\u001b[39m, in \u001b[36mSeries.apply\u001b[39m\u001b[34m(self, func, convert_dtype, args, by_row, **kwargs)\u001b[39m\n\u001b[32m   4789\u001b[39m \u001b[38;5;28;01mdef\u001b[39;00m\u001b[38;5;250m \u001b[39m\u001b[34mapply\u001b[39m(\n\u001b[32m   4790\u001b[39m     \u001b[38;5;28mself\u001b[39m,\n\u001b[32m   4791\u001b[39m     func: AggFuncType,\n\u001b[32m   (...)\u001b[39m\u001b[32m   4796\u001b[39m     **kwargs,\n\u001b[32m   4797\u001b[39m ) -> DataFrame | Series:\n\u001b[32m   4798\u001b[39m \u001b[38;5;250m    \u001b[39m\u001b[33;03m\"\"\"\u001b[39;00m\n\u001b[32m   4799\u001b[39m \u001b[33;03m    Invoke function on values of Series.\u001b[39;00m\n\u001b[32m   4800\u001b[39m \n\u001b[32m   (...)\u001b[39m\u001b[32m   4915\u001b[39m \u001b[33;03m    dtype: float64\u001b[39;00m\n\u001b[32m   4916\u001b[39m \u001b[33;03m    \"\"\"\u001b[39;00m\n\u001b[32m   4917\u001b[39m     \u001b[38;5;28;01mreturn\u001b[39;00m \u001b[43mSeriesApply\u001b[49m\u001b[43m(\u001b[49m\n\u001b[32m   4918\u001b[39m \u001b[43m        \u001b[49m\u001b[38;5;28;43mself\u001b[39;49m\u001b[43m,\u001b[49m\n\u001b[32m   4919\u001b[39m \u001b[43m        \u001b[49m\u001b[43mfunc\u001b[49m\u001b[43m,\u001b[49m\n\u001b[32m   4920\u001b[39m \u001b[43m        \u001b[49m\u001b[43mconvert_dtype\u001b[49m\u001b[43m=\u001b[49m\u001b[43mconvert_dtype\u001b[49m\u001b[43m,\u001b[49m\n\u001b[32m   4921\u001b[39m \u001b[43m        \u001b[49m\u001b[43mby_row\u001b[49m\u001b[43m=\u001b[49m\u001b[43mby_row\u001b[49m\u001b[43m,\u001b[49m\n\u001b[32m   4922\u001b[39m \u001b[43m        \u001b[49m\u001b[43margs\u001b[49m\u001b[43m=\u001b[49m\u001b[43margs\u001b[49m\u001b[43m,\u001b[49m\n\u001b[32m   4923\u001b[39m \u001b[43m        \u001b[49m\u001b[43mkwargs\u001b[49m\u001b[43m=\u001b[49m\u001b[43mkwargs\u001b[49m\u001b[43m,\u001b[49m\n\u001b[32m-> \u001b[39m\u001b[32m4924\u001b[39m \u001b[43m    \u001b[49m\u001b[43m)\u001b[49m\u001b[43m.\u001b[49m\u001b[43mapply\u001b[49m\u001b[43m(\u001b[49m\u001b[43m)\u001b[49m\n",
      "\u001b[36mFile \u001b[39m\u001b[32mc:\\laragon\\bin\\python\\Python313\\Lib\\site-packages\\pandas\\core\\apply.py:1427\u001b[39m, in \u001b[36mSeriesApply.apply\u001b[39m\u001b[34m(self)\u001b[39m\n\u001b[32m   1424\u001b[39m     \u001b[38;5;28;01mreturn\u001b[39;00m \u001b[38;5;28mself\u001b[39m.apply_compat()\n\u001b[32m   1426\u001b[39m \u001b[38;5;66;03m# self.func is Callable\u001b[39;00m\n\u001b[32m-> \u001b[39m\u001b[32m1427\u001b[39m \u001b[38;5;28;01mreturn\u001b[39;00m \u001b[38;5;28;43mself\u001b[39;49m\u001b[43m.\u001b[49m\u001b[43mapply_standard\u001b[49m\u001b[43m(\u001b[49m\u001b[43m)\u001b[49m\n",
      "\u001b[36mFile \u001b[39m\u001b[32mc:\\laragon\\bin\\python\\Python313\\Lib\\site-packages\\pandas\\core\\apply.py:1507\u001b[39m, in \u001b[36mSeriesApply.apply_standard\u001b[39m\u001b[34m(self)\u001b[39m\n\u001b[32m   1501\u001b[39m \u001b[38;5;66;03m# row-wise access\u001b[39;00m\n\u001b[32m   1502\u001b[39m \u001b[38;5;66;03m# apply doesn't have a `na_action` keyword and for backward compat reasons\u001b[39;00m\n\u001b[32m   1503\u001b[39m \u001b[38;5;66;03m# we need to give `na_action=\"ignore\"` for categorical data.\u001b[39;00m\n\u001b[32m   1504\u001b[39m \u001b[38;5;66;03m# TODO: remove the `na_action=\"ignore\"` when that default has been changed in\u001b[39;00m\n\u001b[32m   1505\u001b[39m \u001b[38;5;66;03m#  Categorical (GH51645).\u001b[39;00m\n\u001b[32m   1506\u001b[39m action = \u001b[33m\"\u001b[39m\u001b[33mignore\u001b[39m\u001b[33m\"\u001b[39m \u001b[38;5;28;01mif\u001b[39;00m \u001b[38;5;28misinstance\u001b[39m(obj.dtype, CategoricalDtype) \u001b[38;5;28;01melse\u001b[39;00m \u001b[38;5;28;01mNone\u001b[39;00m\n\u001b[32m-> \u001b[39m\u001b[32m1507\u001b[39m mapped = \u001b[43mobj\u001b[49m\u001b[43m.\u001b[49m\u001b[43m_map_values\u001b[49m\u001b[43m(\u001b[49m\n\u001b[32m   1508\u001b[39m \u001b[43m    \u001b[49m\u001b[43mmapper\u001b[49m\u001b[43m=\u001b[49m\u001b[43mcurried\u001b[49m\u001b[43m,\u001b[49m\u001b[43m \u001b[49m\u001b[43mna_action\u001b[49m\u001b[43m=\u001b[49m\u001b[43maction\u001b[49m\u001b[43m,\u001b[49m\u001b[43m \u001b[49m\u001b[43mconvert\u001b[49m\u001b[43m=\u001b[49m\u001b[38;5;28;43mself\u001b[39;49m\u001b[43m.\u001b[49m\u001b[43mconvert_dtype\u001b[49m\n\u001b[32m   1509\u001b[39m \u001b[43m\u001b[49m\u001b[43m)\u001b[49m\n\u001b[32m   1511\u001b[39m \u001b[38;5;28;01mif\u001b[39;00m \u001b[38;5;28mlen\u001b[39m(mapped) \u001b[38;5;129;01mand\u001b[39;00m \u001b[38;5;28misinstance\u001b[39m(mapped[\u001b[32m0\u001b[39m], ABCSeries):\n\u001b[32m   1512\u001b[39m     \u001b[38;5;66;03m# GH#43986 Need to do list(mapped) in order to get treated as nested\u001b[39;00m\n\u001b[32m   1513\u001b[39m     \u001b[38;5;66;03m#  See also GH#25959 regarding EA support\u001b[39;00m\n\u001b[32m   1514\u001b[39m     \u001b[38;5;28;01mreturn\u001b[39;00m obj._constructor_expanddim(\u001b[38;5;28mlist\u001b[39m(mapped), index=obj.index)\n",
      "\u001b[36mFile \u001b[39m\u001b[32mc:\\laragon\\bin\\python\\Python313\\Lib\\site-packages\\pandas\\core\\base.py:921\u001b[39m, in \u001b[36mIndexOpsMixin._map_values\u001b[39m\u001b[34m(self, mapper, na_action, convert)\u001b[39m\n\u001b[32m    918\u001b[39m \u001b[38;5;28;01mif\u001b[39;00m \u001b[38;5;28misinstance\u001b[39m(arr, ExtensionArray):\n\u001b[32m    919\u001b[39m     \u001b[38;5;28;01mreturn\u001b[39;00m arr.map(mapper, na_action=na_action)\n\u001b[32m--> \u001b[39m\u001b[32m921\u001b[39m \u001b[38;5;28;01mreturn\u001b[39;00m \u001b[43malgorithms\u001b[49m\u001b[43m.\u001b[49m\u001b[43mmap_array\u001b[49m\u001b[43m(\u001b[49m\u001b[43marr\u001b[49m\u001b[43m,\u001b[49m\u001b[43m \u001b[49m\u001b[43mmapper\u001b[49m\u001b[43m,\u001b[49m\u001b[43m \u001b[49m\u001b[43mna_action\u001b[49m\u001b[43m=\u001b[49m\u001b[43mna_action\u001b[49m\u001b[43m,\u001b[49m\u001b[43m \u001b[49m\u001b[43mconvert\u001b[49m\u001b[43m=\u001b[49m\u001b[43mconvert\u001b[49m\u001b[43m)\u001b[49m\n",
      "\u001b[36mFile \u001b[39m\u001b[32mc:\\laragon\\bin\\python\\Python313\\Lib\\site-packages\\pandas\\core\\algorithms.py:1743\u001b[39m, in \u001b[36mmap_array\u001b[39m\u001b[34m(arr, mapper, na_action, convert)\u001b[39m\n\u001b[32m   1741\u001b[39m values = arr.astype(\u001b[38;5;28mobject\u001b[39m, copy=\u001b[38;5;28;01mFalse\u001b[39;00m)\n\u001b[32m   1742\u001b[39m \u001b[38;5;28;01mif\u001b[39;00m na_action \u001b[38;5;129;01mis\u001b[39;00m \u001b[38;5;28;01mNone\u001b[39;00m:\n\u001b[32m-> \u001b[39m\u001b[32m1743\u001b[39m     \u001b[38;5;28;01mreturn\u001b[39;00m \u001b[43mlib\u001b[49m\u001b[43m.\u001b[49m\u001b[43mmap_infer\u001b[49m\u001b[43m(\u001b[49m\u001b[43mvalues\u001b[49m\u001b[43m,\u001b[49m\u001b[43m \u001b[49m\u001b[43mmapper\u001b[49m\u001b[43m,\u001b[49m\u001b[43m \u001b[49m\u001b[43mconvert\u001b[49m\u001b[43m=\u001b[49m\u001b[43mconvert\u001b[49m\u001b[43m)\u001b[49m\n\u001b[32m   1744\u001b[39m \u001b[38;5;28;01melse\u001b[39;00m:\n\u001b[32m   1745\u001b[39m     \u001b[38;5;28;01mreturn\u001b[39;00m lib.map_infer_mask(\n\u001b[32m   1746\u001b[39m         values, mapper, mask=isna(values).view(np.uint8), convert=convert\n\u001b[32m   1747\u001b[39m     )\n",
      "\u001b[36mFile \u001b[39m\u001b[32mlib.pyx:2972\u001b[39m, in \u001b[36mpandas._libs.lib.map_infer\u001b[39m\u001b[34m()\u001b[39m\n",
      "\u001b[36mCell\u001b[39m\u001b[36m \u001b[39m\u001b[32mIn[37]\u001b[39m\u001b[32m, line 1\u001b[39m, in \u001b[36m<lambda>\u001b[39m\u001b[34m(x)\u001b[39m\n\u001b[32m----> \u001b[39m\u001b[32m1\u001b[39m df_finance_detil_3586494220604830[\u001b[33m'\u001b[39m\u001b[33mjumlah_debit\u001b[39m\u001b[33m'\u001b[39m] = df_finance_detil_3586494220604830[\u001b[33m'\u001b[39m\u001b[33mjumlah_debit\u001b[39m\u001b[33m'\u001b[39m].apply(\u001b[38;5;28;01mlambda\u001b[39;00m x: \u001b[33;43m'\u001b[39;49m\u001b[38;5;132;43;01m{:,.2f}\u001b[39;49;00m\u001b[33;43m'\u001b[39;49m\u001b[43m.\u001b[49m\u001b[43mformat\u001b[49m\u001b[43m(\u001b[49m\u001b[43mx\u001b[49m\u001b[43m)\u001b[49m)\n\u001b[32m      2\u001b[39m df_finance_detil_3586494220604830[\u001b[33m'\u001b[39m\u001b[33mjumlah_kredit\u001b[39m\u001b[33m'\u001b[39m] = df_finance_detil_3586494220604830[\u001b[33m'\u001b[39m\u001b[33mjumlah_kredit\u001b[39m\u001b[33m'\u001b[39m].apply(\u001b[38;5;28;01mlambda\u001b[39;00m x: \u001b[33m'\u001b[39m\u001b[38;5;132;01m{:,.2f}\u001b[39;00m\u001b[33m'\u001b[39m.format(x))\n\u001b[32m      3\u001b[39m df_finance_detil_3586494220604830[\u001b[33m'\u001b[39m\u001b[33mtotal\u001b[39m\u001b[33m'\u001b[39m] = df_finance_detil_3586494220604830[\u001b[33m'\u001b[39m\u001b[33mtotal\u001b[39m\u001b[33m'\u001b[39m].apply(\u001b[38;5;28;01mlambda\u001b[39;00m x: \u001b[33m'\u001b[39m\u001b[38;5;132;01m{:,.2f}\u001b[39;00m\u001b[33m'\u001b[39m.format(x))\n",
      "\u001b[31mValueError\u001b[39m: Unknown format code 'f' for object of type 'str'"
     ]
    }
   ],
   "source": [
    "df_finance_detil_3586494220604830['jumlah_debit'] = df_finance_detil_3586494220604830['jumlah_debit'].apply(lambda x: '{:,.2f}'.format(x))\n",
    "df_finance_detil_3586494220604830['jumlah_kredit'] = df_finance_detil_3586494220604830['jumlah_kredit'].apply(lambda x: '{:,.2f}'.format(x))\n",
    "df_finance_detil_3586494220604830['total'] = df_finance_detil_3586494220604830['total'].apply(lambda x: '{:,.2f}'.format(x))"
   ]
  },
  {
   "cell_type": "code",
   "execution_count": 38,
   "metadata": {},
   "outputs": [
    {
     "data": {
      "text/html": [
       "<div>\n",
       "<style scoped>\n",
       "    .dataframe tbody tr th:only-of-type {\n",
       "        vertical-align: middle;\n",
       "    }\n",
       "\n",
       "    .dataframe tbody tr th {\n",
       "        vertical-align: top;\n",
       "    }\n",
       "\n",
       "    .dataframe thead th {\n",
       "        text-align: right;\n",
       "    }\n",
       "</style>\n",
       "<table border=\"1\" class=\"dataframe\">\n",
       "  <thead>\n",
       "    <tr style=\"text-align: right;\">\n",
       "      <th></th>\n",
       "      <th>id1</th>\n",
       "      <th>id2</th>\n",
       "      <th>tgl_transaksi</th>\n",
       "      <th>jumlah_debit</th>\n",
       "      <th>jumlah_kredit</th>\n",
       "      <th>total</th>\n",
       "    </tr>\n",
       "  </thead>\n",
       "  <tbody>\n",
       "    <tr>\n",
       "      <th>898</th>\n",
       "      <td>899</td>\n",
       "      <td>3586494220604830</td>\n",
       "      <td>2000-01-01</td>\n",
       "      <td>740,318.51</td>\n",
       "      <td>766,724.98</td>\n",
       "      <td>26,406.47</td>\n",
       "    </tr>\n",
       "    <tr>\n",
       "      <th>488</th>\n",
       "      <td>489</td>\n",
       "      <td>3586494220604830</td>\n",
       "      <td>2000-01-04</td>\n",
       "      <td>920,362.72</td>\n",
       "      <td>344,414.06</td>\n",
       "      <td>0.00</td>\n",
       "    </tr>\n",
       "    <tr>\n",
       "      <th>650</th>\n",
       "      <td>651</td>\n",
       "      <td>3586494220604830</td>\n",
       "      <td>2000-01-06</td>\n",
       "      <td>366,436.32</td>\n",
       "      <td>190,759.42</td>\n",
       "      <td>0.00</td>\n",
       "    </tr>\n",
       "    <tr>\n",
       "      <th>305</th>\n",
       "      <td>306</td>\n",
       "      <td>3586494220604830</td>\n",
       "      <td>2000-02-01</td>\n",
       "      <td>845,533.60</td>\n",
       "      <td>570,077.29</td>\n",
       "      <td>0.00</td>\n",
       "    </tr>\n",
       "    <tr>\n",
       "      <th>124</th>\n",
       "      <td>125</td>\n",
       "      <td>3586494220604830</td>\n",
       "      <td>2000-02-02</td>\n",
       "      <td>60,952.65</td>\n",
       "      <td>533,993.88</td>\n",
       "      <td>473,041.23</td>\n",
       "    </tr>\n",
       "    <tr>\n",
       "      <th>...</th>\n",
       "      <td>...</td>\n",
       "      <td>...</td>\n",
       "      <td>...</td>\n",
       "      <td>...</td>\n",
       "      <td>...</td>\n",
       "      <td>...</td>\n",
       "    </tr>\n",
       "    <tr>\n",
       "      <th>925</th>\n",
       "      <td>926</td>\n",
       "      <td>3586494220604830</td>\n",
       "      <td>2002-02-23</td>\n",
       "      <td>178,473.54</td>\n",
       "      <td>2,655.59</td>\n",
       "      <td>0.00</td>\n",
       "    </tr>\n",
       "    <tr>\n",
       "      <th>244</th>\n",
       "      <td>245</td>\n",
       "      <td>3586494220604830</td>\n",
       "      <td>2002-03-06</td>\n",
       "      <td>676,755.72</td>\n",
       "      <td>508,040.57</td>\n",
       "      <td>0.00</td>\n",
       "    </tr>\n",
       "    <tr>\n",
       "      <th>967</th>\n",
       "      <td>968</td>\n",
       "      <td>3586494220604830</td>\n",
       "      <td>2002-03-19</td>\n",
       "      <td>350,658.23</td>\n",
       "      <td>307,356.54</td>\n",
       "      <td>0.00</td>\n",
       "    </tr>\n",
       "    <tr>\n",
       "      <th>753</th>\n",
       "      <td>754</td>\n",
       "      <td>3586494220604830</td>\n",
       "      <td>2002-03-20</td>\n",
       "      <td>800,861.89</td>\n",
       "      <td>942,758.36</td>\n",
       "      <td>141,896.47</td>\n",
       "    </tr>\n",
       "    <tr>\n",
       "      <th>618</th>\n",
       "      <td>619</td>\n",
       "      <td>3586494220604830</td>\n",
       "      <td>2002-03-25</td>\n",
       "      <td>871,660.77</td>\n",
       "      <td>7,934.48</td>\n",
       "      <td>0.00</td>\n",
       "    </tr>\n",
       "  </tbody>\n",
       "</table>\n",
       "<p>100 rows × 6 columns</p>\n",
       "</div>"
      ],
      "text/plain": [
       "     id1               id2 tgl_transaksi jumlah_debit jumlah_kredit  \\\n",
       "898  899  3586494220604830    2000-01-01   740,318.51    766,724.98   \n",
       "488  489  3586494220604830    2000-01-04   920,362.72    344,414.06   \n",
       "650  651  3586494220604830    2000-01-06   366,436.32    190,759.42   \n",
       "305  306  3586494220604830    2000-02-01   845,533.60    570,077.29   \n",
       "124  125  3586494220604830    2000-02-02    60,952.65    533,993.88   \n",
       "..   ...               ...           ...          ...           ...   \n",
       "925  926  3586494220604830    2002-02-23   178,473.54      2,655.59   \n",
       "244  245  3586494220604830    2002-03-06   676,755.72    508,040.57   \n",
       "967  968  3586494220604830    2002-03-19   350,658.23    307,356.54   \n",
       "753  754  3586494220604830    2002-03-20   800,861.89    942,758.36   \n",
       "618  619  3586494220604830    2002-03-25   871,660.77      7,934.48   \n",
       "\n",
       "          total  \n",
       "898   26,406.47  \n",
       "488        0.00  \n",
       "650        0.00  \n",
       "305        0.00  \n",
       "124  473,041.23  \n",
       "..          ...  \n",
       "925        0.00  \n",
       "244        0.00  \n",
       "967        0.00  \n",
       "753  141,896.47  \n",
       "618        0.00  \n",
       "\n",
       "[100 rows x 6 columns]"
      ]
     },
     "execution_count": 38,
     "metadata": {},
     "output_type": "execute_result"
    }
   ],
   "source": [
    "df_finance_detil_3586494220604830.head(100)"
   ]
  },
  {
   "cell_type": "markdown",
   "metadata": {},
   "source": [
    "## 5.3. Grafik Data\n",
    "\n",
    "Sudah tidak ada menghitung menggunakan rumus. Data yang diambil berdasarkan hasil perhitungan diatas, sehingga hanya menampilkan data berupa grafik.\n"
   ]
  },
  {
   "cell_type": "code",
   "execution_count": 45,
   "metadata": {},
   "outputs": [
    {
     "name": "stdout",
     "output_type": "stream",
     "text": [
      "\n",
      "Grafik Pencarian Data, 3 Gambar terpisah yang telah dibuat:\n",
      "\n",
      "Grafik Kredit\n"
     ]
    },
    {
     "data": {
      "image/png": "[encoded data removed]",
      "text/plain": [
       "<Figure size 1000x500 with 1 Axes>"
      ]
     },
     "metadata": {},
     "output_type": "display_data"
    },
    {
     "name": "stdout",
     "output_type": "stream",
     "text": [
      "\n",
      "Grafik Debet\n"
     ]
    },
    {
     "data": {
      "image/png": "[encoded data removed]",
      "text/plain": [
       "<Figure size 1000x500 with 1 Axes>"
      ]
     },
     "metadata": {},
     "output_type": "display_data"
    },
    {
     "name": "stdout",
     "output_type": "stream",
     "text": [
      "\n",
      "Grafik Total\n"
     ]
    },
    {
     "data": {
      "image/png": "[encoded data removed]",
      "text/plain": [
       "<Figure size 1000x500 with 1 Axes>"
      ]
     },
     "metadata": {},
     "output_type": "display_data"
    }
   ],
   "source": [
    "print('\\nGrafik Pencarian Data, 3 Gambar terpisah yang telah dibuat:')\n",
    "\n",
    "print('\\nGrafik Kredit')\n",
    "df_finance_detil_filtered_search_date.set_index('tgl_transaksi')[['jumlah_kredit']].plot(\n",
    "    figsize=(10, 5),\n",
    "    title='Tabungan Nasabah Norek: 3586494220604830'\n",
    ")\n",
    "plt.ylabel('Kredit')\n",
    "plt.xlabel('Tanggal Transaksi')\n",
    "plt.show()\n",
    "\n",
    "print('\\nGrafik Debet')\n",
    "df_finance_detil_filtered_search_date.set_index('tgl_transaksi')[['jumlah_debit']].plot(\n",
    "    figsize=(10, 5),\n",
    "    title='Tabungan Nasabah Norek: 3586494220604830'\n",
    ")\n",
    "plt.ylabel('Debet')\n",
    "plt.xlabel('Tanggal Transaksi')\n",
    "plt.show()\n",
    "\n",
    "\n",
    "print('\\nGrafik Total')\n",
    "df_finance_detil_filtered_search_date.set_index('tgl_transaksi')[['total']].plot(\n",
    "    figsize=(10, 5),\n",
    "    title='Tabungan Nasabah Norek: 3586494220604830'\n",
    ")\n",
    "plt.ylabel('Total')\n",
    "plt.xlabel('Tanggal Transaksi')\n",
    "plt.show()"
   ]
  }
 ],
 "metadata": {
  "colab": {
   "authorship_tag": "ABX9TyMgI9T5tvxtZn973NrqQ72D",
   "provenance": []
  },
  "kernelspec": {
   "display_name": "Python 3",
   "name": "python3"
  },
  "language_info": {
   "codemirror_mode": {
    "name": "ipython",
    "version": 3
   },
   "file_extension": ".py",
   "mimetype": "text/x-python",
   "name": "python",
   "nbconvert_exporter": "python",
   "pygments_lexer": "ipython3",
   "version": "3.13.2"
  }
 },
 "nbformat": 4,
 "nbformat_minor": 0
}
