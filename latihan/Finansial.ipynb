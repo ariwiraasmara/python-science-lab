{
 "cells": [
  {
   "cell_type": "markdown",
   "metadata": {
    "id": "KA-b85eRAUY-"
   },
   "source": [
    "Data Finansial Perbankan digunakan sebagai acuan latihan Data Engineer dan Data Science."
   ]
  },
  {
   "cell_type": "markdown",
   "metadata": {
    "id": "AGRGW5tFBAlR"
   },
   "source": [
    "# **DISCLAIMER**\n",
    "\n",
    "Sumber data yang diambil berasal dari [mockaroo.com](https://mockaroo.com/), sehingga tidak ada sangkut pautnya dan keabsahan data dari Bank tertentu.\n",
    "\n",
    "Sehingga notebook ini asli dan terhindar dari penyalahgunaan data."
   ]
  },
  {
   "cell_type": "code",
   "execution_count": 3,
   "metadata": {},
   "outputs": [],
   "source": [
    "# Load dan import library terlebih dahulu\n",
    "import pandas as pd\n",
    "import numpy as np"
   ]
  },
  {
   "cell_type": "code",
   "execution_count": 4,
   "metadata": {},
   "outputs": [],
   "source": [
    "# Set datasets\n",
    "\n",
    "df_tabeldebet_hal1 = pd.read_csv('../datasets/bukukas_debet_hal1.csv')\n",
    "df_tabeldebet_hal2 = pd.read_csv('../datasets/bukukas_debet_hal2.csv')\n",
    "df_tabeldebet_hal3 = pd.read_csv('../datasets/bukukas_debet_hal3.csv')\n",
    "df_tabeldebet_hal4 = pd.read_csv('../datasets/bukukas_debet_hal4.csv')\n",
    "df_tabeldebet_hal5 = pd.read_csv('../datasets/bukukas_debet_hal5.csv')\n",
    "\n",
    "df_tabelkredit_hal1 = pd.read_csv('../datasets/bukukas_kredit_hal1.csv')\n",
    "df_tabelkredit_hal2 = pd.read_csv('../datasets/bukukas_kredit_hal2.csv')\n",
    "df_tabelkredit_hal3 = pd.read_csv('../datasets/bukukas_kredit_hal3.csv')\n",
    "df_tabelkredit_hal4 = pd.read_csv('../datasets/bukukas_kredit_hal4.csv')\n",
    "df_tabelkredit_hal5 = pd.read_csv('../datasets/bukukas_kredit_hal5.csv')\n",
    "\n"
   ]
  },
  {
   "cell_type": "code",
   "execution_count": 7,
   "metadata": {},
   "outputs": [
    {
     "data": {
      "text/html": [
       "<div>\n",
       "<style scoped>\n",
       "    .dataframe tbody tr th:only-of-type {\n",
       "        vertical-align: middle;\n",
       "    }\n",
       "\n",
       "    .dataframe tbody tr th {\n",
       "        vertical-align: top;\n",
       "    }\n",
       "\n",
       "    .dataframe thead th {\n",
       "        text-align: right;\n",
       "    }\n",
       "</style>\n",
       "<table border=\"1\" class=\"dataframe\">\n",
       "  <thead>\n",
       "    <tr style=\"text-align: right;\">\n",
       "      <th></th>\n",
       "      <th>id</th>\n",
       "      <th>nomor_rekening</th>\n",
       "      <th>nama_lengkap</th>\n",
       "      <th>tanggal_transaksi</th>\n",
       "      <th>jumlah_debit</th>\n",
       "      <th>keterangan</th>\n",
       "    </tr>\n",
       "  </thead>\n",
       "  <tbody>\n",
       "    <tr>\n",
       "      <th>0</th>\n",
       "      <td>1</td>\n",
       "      <td>3559055296435103</td>\n",
       "      <td>Cordy Jarrette</td>\n",
       "      <td>10/23/2024</td>\n",
       "      <td>522251.47</td>\n",
       "      <td>Special attachment for vacuum cleaners to remo...</td>\n",
       "    </tr>\n",
       "    <tr>\n",
       "      <th>1</th>\n",
       "      <td>2</td>\n",
       "      <td>5100138317093264</td>\n",
       "      <td>Dewey Smeaton</td>\n",
       "      <td>1/25/2025</td>\n",
       "      <td>812001.64</td>\n",
       "      <td>High-quality sketchbook for artists.</td>\n",
       "    </tr>\n",
       "    <tr>\n",
       "      <th>2</th>\n",
       "      <td>3</td>\n",
       "      <td>3556323508134960</td>\n",
       "      <td>Louisa Craig</td>\n",
       "      <td>7/5/2024</td>\n",
       "      <td>751745.15</td>\n",
       "      <td>Oatmeal made with savory spices and vegetables.</td>\n",
       "    </tr>\n",
       "    <tr>\n",
       "      <th>3</th>\n",
       "      <td>4</td>\n",
       "      <td>3554298664273202</td>\n",
       "      <td>Maighdiln McCurry</td>\n",
       "      <td>4/9/2025</td>\n",
       "      <td>807354.62</td>\n",
       "      <td>Farm fresh eggs, essential for breakfast.</td>\n",
       "    </tr>\n",
       "    <tr>\n",
       "      <th>4</th>\n",
       "      <td>5</td>\n",
       "      <td>201805248223645</td>\n",
       "      <td>Annora Vickers</td>\n",
       "      <td>10/24/2024</td>\n",
       "      <td>460564.13</td>\n",
       "      <td>Portable solar shower for camping and outdoor ...</td>\n",
       "    </tr>\n",
       "  </tbody>\n",
       "</table>\n",
       "</div>"
      ],
      "text/plain": [
       "   id    nomor_rekening       nama_lengkap tanggal_transaksi  jumlah_debit  \\\n",
       "0   1  3559055296435103     Cordy Jarrette        10/23/2024     522251.47   \n",
       "1   2  5100138317093264      Dewey Smeaton         1/25/2025     812001.64   \n",
       "2   3  3556323508134960       Louisa Craig          7/5/2024     751745.15   \n",
       "3   4  3554298664273202  Maighdiln McCurry          4/9/2025     807354.62   \n",
       "4   5   201805248223645     Annora Vickers        10/24/2024     460564.13   \n",
       "\n",
       "                                          keterangan  \n",
       "0  Special attachment for vacuum cleaners to remo...  \n",
       "1               High-quality sketchbook for artists.  \n",
       "2    Oatmeal made with savory spices and vegetables.  \n",
       "3          Farm fresh eggs, essential for breakfast.  \n",
       "4  Portable solar shower for camping and outdoor ...  "
      ]
     },
     "execution_count": 7,
     "metadata": {},
     "output_type": "execute_result"
    }
   ],
   "source": [
    "df_tabeldebet_hal1.head()"
   ]
  }
 ],
 "metadata": {
  "colab": {
   "authorship_tag": "ABX9TyMgI9T5tvxtZn973NrqQ72D",
   "provenance": []
  },
  "kernelspec": {
   "display_name": "Python 3",
   "name": "python3"
  },
  "language_info": {
   "codemirror_mode": {
    "name": "ipython",
    "version": 3
   },
   "file_extension": ".py",
   "mimetype": "text/x-python",
   "name": "python",
   "nbconvert_exporter": "python",
   "pygments_lexer": "ipython3",
   "version": "3.13.2"
  }
 },
 "nbformat": 4,
 "nbformat_minor": 0
}
